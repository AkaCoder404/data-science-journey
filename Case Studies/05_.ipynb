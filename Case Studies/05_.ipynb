{
 "cells": [
  {
   "cell_type": "markdown",
   "metadata": {},
   "source": [
    "<link href=\"https://cdnjs.cloudflare.com/ajax/libs/font-awesome/5.15.3/css/all.min.css\" rel=\"stylesheet\">\n",
    "\n",
    "<!-- Header -->\n",
    "<div style=\"background-color: #e8f4f8; padding: 15px 25px; margin: 20px 0; border-radius: 5px;\">\n",
    "    <h1 style=\"color: #1e3d59; margin: 0; font-weight: bold; font-size: 2em;\"> 📥  Downloading Fuels & Energy Futures Data</h1>\n",
    "    <h3 style=\"color: #3b6978; margin: 12px 0;\">Learn how to download commodities futures data using Yfinance</h3>\n",
    "    <p style=\"color: #1e3d59; margin-top: 25px;\">\n",
    "       <i class=\"fas fa-user\"></i> Author: <a href=\"https://twitter.com/guillemservera\" style=\"color: #3b6978;\">Guillem Servera Díez</a> |\n",
    "       <i class=\"fas fa-database\"></i> Dataset: <a href=\"https://www.kaggle.com/datasets/guillemservera/fuels-futures-data\" style=\"color: #3b6978;\">Fuels and Energy Futures Daily Data</a></p>\n",
    "</div>"
   ]
  },
  {
   "cell_type": "code",
   "execution_count": null,
   "metadata": {},
   "outputs": [],
   "source": []
  }
 ],
 "metadata": {
  "language_info": {
   "name": "python"
  },
  "orig_nbformat": 4
 },
 "nbformat": 4,
 "nbformat_minor": 2
}
