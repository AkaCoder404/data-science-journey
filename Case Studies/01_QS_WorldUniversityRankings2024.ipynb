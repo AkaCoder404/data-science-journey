{
 "cells": [
  {
   "cell_type": "markdown",
   "metadata": {},
   "source": [
    "# QS World University Rankings 2024\n",
    "This data set of the [QS World University Rankings of 2024](https://www.kaggle.com/datasets/joebeachcapital/qs-world-university-rankings-2024) is taken from Kaggle.\n",
    "\n",
    "A short blurb taken from the source: \n",
    "\n",
    "> The 20th edition of the QS World University Rankings features 1,500 institutions across 104 locations and is the only ranking of its kind to emphasise employability and sustainability. This year, they have implemented the largest-ever methodological enhancement, introducing three new metrics: Sustainability, Employment Outcomes and International Research Network.\n",
    "\n",
    "THe original data set can also be found at [qs.com](https://www.qs.com) [here](https://www.qs.com/portfolio-items/qs-world-university-rankings-2024/?portfolioCats=1927%2C2037)\n",
    "\n",
    "## Goal\n",
    "The goal of this study is to visualize and become familiar with the QS World University Ranking data set.\n",
    "- See the distribution of schools by region. I.e see how many of the top 100 schools are from the US.\n",
    "- See the distribution of school classifications, including school size, focus, research, age, and status.\n",
    "- Compare scores of various categories to show why a school may be ahead in terms of ranking"
   ]
  },
  {
   "cell_type": "markdown",
   "metadata": {},
   "source": [
    "## Step 0: Exploring the Data Set\n",
    "Let's first look at what the data set has to offer."
   ]
  },
  {
   "cell_type": "code",
   "execution_count": 311,
   "metadata": {},
   "outputs": [
    {
     "name": "stdout",
     "output_type": "stream",
     "text": [
      "# of Columns: 29\n",
      "Columns: Index(['2024 RANK', '2023 RANK', 'Institution Name', 'Country Code', 'Country',\n",
      "       'SIZE', 'FOCUS', 'RES.', 'AGE', 'STATUS', 'Academic Reputation Score',\n",
      "       'Academic Reputation Rank', 'Employer Reputation Score',\n",
      "       'Employer Reputation Rank', 'Faculty Student Score',\n",
      "       'Faculty Student Rank', 'Citations per Faculty Score',\n",
      "       'Citations per Faculty Rank', 'International Faculty Score',\n",
      "       'International Faculty Rank', 'International Students Score',\n",
      "       'International Students Rank', 'International Research Network Score',\n",
      "       'International Research Network Rank', 'Employment Outcomes Score',\n",
      "       'Employment Outcomes Rank', 'Sustainability Score',\n",
      "       'Sustainability Rank', 'Overall SCORE'],\n",
      "      dtype='object')\n",
      "# of Rows: 1498\n"
     ]
    },
    {
     "data": {
      "text/html": [
       "<div>\n",
       "<style scoped>\n",
       "    .dataframe tbody tr th:only-of-type {\n",
       "        vertical-align: middle;\n",
       "    }\n",
       "\n",
       "    .dataframe tbody tr th {\n",
       "        vertical-align: top;\n",
       "    }\n",
       "\n",
       "    .dataframe thead th {\n",
       "        text-align: right;\n",
       "    }\n",
       "</style>\n",
       "<table border=\"1\" class=\"dataframe\">\n",
       "  <thead>\n",
       "    <tr style=\"text-align: right;\">\n",
       "      <th></th>\n",
       "      <th>2024 RANK</th>\n",
       "      <th>2023 RANK</th>\n",
       "      <th>Institution Name</th>\n",
       "      <th>Country Code</th>\n",
       "      <th>Country</th>\n",
       "      <th>SIZE</th>\n",
       "      <th>FOCUS</th>\n",
       "      <th>RES.</th>\n",
       "      <th>AGE</th>\n",
       "      <th>STATUS</th>\n",
       "      <th>...</th>\n",
       "      <th>International Faculty Rank</th>\n",
       "      <th>International Students Score</th>\n",
       "      <th>International Students Rank</th>\n",
       "      <th>International Research Network Score</th>\n",
       "      <th>International Research Network Rank</th>\n",
       "      <th>Employment Outcomes Score</th>\n",
       "      <th>Employment Outcomes Rank</th>\n",
       "      <th>Sustainability Score</th>\n",
       "      <th>Sustainability Rank</th>\n",
       "      <th>Overall SCORE</th>\n",
       "    </tr>\n",
       "  </thead>\n",
       "  <tbody>\n",
       "    <tr>\n",
       "      <th>0</th>\n",
       "      <td>rank display</td>\n",
       "      <td>rank display2</td>\n",
       "      <td>institution</td>\n",
       "      <td>location code</td>\n",
       "      <td>location</td>\n",
       "      <td>size</td>\n",
       "      <td>focus</td>\n",
       "      <td>research</td>\n",
       "      <td>age band</td>\n",
       "      <td>status</td>\n",
       "      <td>...</td>\n",
       "      <td>ifr rank</td>\n",
       "      <td>isr score</td>\n",
       "      <td>isr rank</td>\n",
       "      <td>irn score</td>\n",
       "      <td>irn rank</td>\n",
       "      <td>ger score</td>\n",
       "      <td>ger rank</td>\n",
       "      <td>SUS SCORE</td>\n",
       "      <td>SUS RANK</td>\n",
       "      <td>Overall Score</td>\n",
       "    </tr>\n",
       "    <tr>\n",
       "      <th>1</th>\n",
       "      <td>1</td>\n",
       "      <td>1</td>\n",
       "      <td>Massachusetts Institute of Technology (MIT)</td>\n",
       "      <td>US</td>\n",
       "      <td>United States</td>\n",
       "      <td>M</td>\n",
       "      <td>CO</td>\n",
       "      <td>VH</td>\n",
       "      <td>5</td>\n",
       "      <td>B</td>\n",
       "      <td>...</td>\n",
       "      <td>56</td>\n",
       "      <td>88.2</td>\n",
       "      <td>128</td>\n",
       "      <td>94.3</td>\n",
       "      <td>58</td>\n",
       "      <td>100</td>\n",
       "      <td>4</td>\n",
       "      <td>95.2</td>\n",
       "      <td>51</td>\n",
       "      <td>100.0</td>\n",
       "    </tr>\n",
       "    <tr>\n",
       "      <th>2</th>\n",
       "      <td>2</td>\n",
       "      <td>2</td>\n",
       "      <td>University of Cambridge</td>\n",
       "      <td>UK</td>\n",
       "      <td>United Kingdom</td>\n",
       "      <td>L</td>\n",
       "      <td>FC</td>\n",
       "      <td>VH</td>\n",
       "      <td>5</td>\n",
       "      <td>A</td>\n",
       "      <td>...</td>\n",
       "      <td>64</td>\n",
       "      <td>95.8</td>\n",
       "      <td>85</td>\n",
       "      <td>99.9</td>\n",
       "      <td>7</td>\n",
       "      <td>100</td>\n",
       "      <td>6</td>\n",
       "      <td>97.3</td>\n",
       "      <td>33=</td>\n",
       "      <td>99.2</td>\n",
       "    </tr>\n",
       "    <tr>\n",
       "      <th>3</th>\n",
       "      <td>3</td>\n",
       "      <td>4</td>\n",
       "      <td>University of Oxford</td>\n",
       "      <td>UK</td>\n",
       "      <td>United Kingdom</td>\n",
       "      <td>L</td>\n",
       "      <td>FC</td>\n",
       "      <td>VH</td>\n",
       "      <td>5</td>\n",
       "      <td>A</td>\n",
       "      <td>...</td>\n",
       "      <td>110</td>\n",
       "      <td>98.2</td>\n",
       "      <td>60</td>\n",
       "      <td>100.0</td>\n",
       "      <td>1</td>\n",
       "      <td>100</td>\n",
       "      <td>3</td>\n",
       "      <td>97.8</td>\n",
       "      <td>26=</td>\n",
       "      <td>98.9</td>\n",
       "    </tr>\n",
       "    <tr>\n",
       "      <th>4</th>\n",
       "      <td>4</td>\n",
       "      <td>5</td>\n",
       "      <td>Harvard University</td>\n",
       "      <td>US</td>\n",
       "      <td>United States</td>\n",
       "      <td>L</td>\n",
       "      <td>FC</td>\n",
       "      <td>VH</td>\n",
       "      <td>5</td>\n",
       "      <td>B</td>\n",
       "      <td>...</td>\n",
       "      <td>210</td>\n",
       "      <td>66.8</td>\n",
       "      <td>223</td>\n",
       "      <td>100.0</td>\n",
       "      <td>5</td>\n",
       "      <td>100</td>\n",
       "      <td>1</td>\n",
       "      <td>96.7</td>\n",
       "      <td>39</td>\n",
       "      <td>98.3</td>\n",
       "    </tr>\n",
       "  </tbody>\n",
       "</table>\n",
       "<p>5 rows × 29 columns</p>\n",
       "</div>"
      ],
      "text/plain": [
       "      2024 RANK      2023 RANK                              Institution Name  \\\n",
       "0  rank display  rank display2                                   institution   \n",
       "1             1              1  Massachusetts Institute of Technology (MIT)    \n",
       "2             2              2                       University of Cambridge   \n",
       "3             3              4                          University of Oxford   \n",
       "4             4              5                            Harvard University   \n",
       "\n",
       "    Country Code         Country  SIZE  FOCUS      RES.       AGE  STATUS  \\\n",
       "0  location code        location  size  focus  research  age band  status   \n",
       "1             US   United States     M     CO        VH         5       B   \n",
       "2             UK  United Kingdom     L     FC        VH         5       A   \n",
       "3             UK  United Kingdom     L     FC        VH         5       A   \n",
       "4             US   United States     L     FC        VH         5       B   \n",
       "\n",
       "   ... International Faculty Rank International Students Score  \\\n",
       "0  ...                   ifr rank                    isr score   \n",
       "1  ...                         56                         88.2   \n",
       "2  ...                         64                         95.8   \n",
       "3  ...                        110                         98.2   \n",
       "4  ...                        210                         66.8   \n",
       "\n",
       "  International Students Rank International Research Network Score  \\\n",
       "0                    isr rank                            irn score   \n",
       "1                         128                                 94.3   \n",
       "2                          85                                 99.9   \n",
       "3                          60                                100.0   \n",
       "4                         223                                100.0   \n",
       "\n",
       "  International Research Network Rank Employment Outcomes Score  \\\n",
       "0                            irn rank                 ger score   \n",
       "1                                  58                       100   \n",
       "2                                   7                       100   \n",
       "3                                   1                       100   \n",
       "4                                   5                       100   \n",
       "\n",
       "  Employment Outcomes Rank Sustainability Score Sustainability Rank  \\\n",
       "0                 ger rank            SUS SCORE            SUS RANK   \n",
       "1                        4                 95.2                  51   \n",
       "2                        6                 97.3                 33=   \n",
       "3                        3                 97.8                 26=   \n",
       "4                        1                 96.7                  39   \n",
       "\n",
       "   Overall SCORE  \n",
       "0  Overall Score  \n",
       "1          100.0  \n",
       "2           99.2  \n",
       "3           98.9  \n",
       "4           98.3  \n",
       "\n",
       "[5 rows x 29 columns]"
      ]
     },
     "execution_count": 311,
     "metadata": {},
     "output_type": "execute_result"
    }
   ],
   "source": [
    "import pandas as pd\n",
    "import numpy as np\n",
    "\n",
    "df = pd.read_csv('Data/QsWorldUniversityRankings2024.csv')\n",
    "print(\"# of Columns:\", len(df.columns))\n",
    "print(\"Columns:\", df.columns)\n",
    "print(\"# of Rows:\", len(df))\n",
    "\n",
    "\n",
    "df.head(5)"
   ]
  },
  {
   "cell_type": "markdown",
   "metadata": {},
   "source": [
    "Here is an overall breakdown off the columns\n",
    "1. 2024 Rank\n",
    "2. 2023 Rank\n",
    "3. Institution Name\n",
    "4. Country Code\n",
    "5. Country\n",
    "6. Size \n",
    "7. Focus\n",
    "8. Res\n",
    "9. Age\n",
    "10. Status\n",
    "11. Academic Reputation Score\n",
    "12. Academic Reputation Rank\n",
    "13. Employer Reputation Score\n",
    "14. Employer Reuptation Rank\n",
    "15. Faculty Student Score\n",
    "16. Faculty Student Rank\n",
    "17. Citations per Faculty Score\n",
    "18. Citations per Faculty Rank\n",
    "19. International Faculty Score\n",
    "20. International Faculty Rank\n",
    "21. International Students Score\n",
    "22. International Students Rank\n",
    "23. International Research Network Score\n",
    "24. International Research Network Rank\n",
    "25. Employment Outcomes Score\n",
    "26. Employment Outcomes Rank\n",
    "27. Sustainability Score\n",
    "28. Sustainability Rank\n",
    "29. Overall Score"
   ]
  },
  {
   "cell_type": "markdown",
   "metadata": {},
   "source": [
    "## Step 1: Data Cleaning and Wrangling.\n",
    "First, lets get a priliminary look at our data,then let's clean our data. At first glance, there is a couple things we can notice.\n",
    "1. Remove an extra row of column headers.\n",
    "2. Data in numerical columns like `Rank` columns are currently strings. This is since the dataset uses `=` to represent multiple schools having the same value. For example, both Peiking and Princeton are ranked 17th, represented by `17th`. Let's remove this and simply make them both `17` by removing non-numerical characters. After row 606, the values for the `2024`  rank are represented by certain range of values. For example, Drexel University is given the ranking value `601-610`. This is ambiguous data. *But perhaps, we can help complete it by writing a ML to guess the actual rank based on the score?*\n",
    "3. Rankings for columns like `Academic Reuptation Rank` stop precise ranking after the 601st and is labeled with `601+`. For `Citations Per Faculty Rank`, precise ranking stops after `701+`\n",
    "4. Another problem is that, after about entry 500, columns with score and rank start to have missing values. There a couple ways to handle this.\n",
    "  - We can simply just consider the top 500 schools. (For simplicity this is chosen)\n",
    "  - We can replace empty values with the mean/median scores/ranks of other schools that have about the same overall ranking. (Is the best if we need exact data for all schools)\n",
    "  - Remove rows with data missing. \n",
    "5. (OPTIONAL) Remove the `2023 RANK` Column. We our mainly analyzing 2024 and our table currently doesn't contain any other 2023 related data. Perhaps a future project would be to compare 2023 and 2024, and target reasons for higher weight, i.e. which variables pushed a school to have a higher ranking.\n",
    "\n",
    "\n",
    "Our data set is not really that complete. For example, after the 400th row / entry, there are lots empty values for certain columns, especially the columns with `Rank` and `Score`. Perhaps another time, we can do a full clean to get a more prestine data set using various data cleaning techniques. \n",
    "\n",
    "In this case, we will simply use the top 300, so we can avoid some of these problems and quickly use some EDA to get a better understanding of the data set."
   ]
  },
  {
   "cell_type": "code",
   "execution_count": 312,
   "metadata": {},
   "outputs": [
    {
     "data": {
      "text/html": [
       "<div>\n",
       "<style scoped>\n",
       "    .dataframe tbody tr th:only-of-type {\n",
       "        vertical-align: middle;\n",
       "    }\n",
       "\n",
       "    .dataframe tbody tr th {\n",
       "        vertical-align: top;\n",
       "    }\n",
       "\n",
       "    .dataframe thead th {\n",
       "        text-align: right;\n",
       "    }\n",
       "</style>\n",
       "<table border=\"1\" class=\"dataframe\">\n",
       "  <thead>\n",
       "    <tr style=\"text-align: right;\">\n",
       "      <th></th>\n",
       "      <th>index</th>\n",
       "      <th>2024 RANK</th>\n",
       "      <th>2023 RANK</th>\n",
       "      <th>Institution Name</th>\n",
       "      <th>Country Code</th>\n",
       "      <th>Country</th>\n",
       "      <th>SIZE</th>\n",
       "      <th>FOCUS</th>\n",
       "      <th>RES.</th>\n",
       "      <th>AGE</th>\n",
       "      <th>...</th>\n",
       "      <th>International Faculty Rank</th>\n",
       "      <th>International Students Score</th>\n",
       "      <th>International Students Rank</th>\n",
       "      <th>International Research Network Score</th>\n",
       "      <th>International Research Network Rank</th>\n",
       "      <th>Employment Outcomes Score</th>\n",
       "      <th>Employment Outcomes Rank</th>\n",
       "      <th>Sustainability Score</th>\n",
       "      <th>Sustainability Rank</th>\n",
       "      <th>Overall SCORE</th>\n",
       "    </tr>\n",
       "  </thead>\n",
       "  <tbody>\n",
       "    <tr>\n",
       "      <th>0</th>\n",
       "      <td>1</td>\n",
       "      <td>1</td>\n",
       "      <td>1</td>\n",
       "      <td>Massachusetts Institute of Technology (MIT)</td>\n",
       "      <td>US</td>\n",
       "      <td>United States</td>\n",
       "      <td>M</td>\n",
       "      <td>CO</td>\n",
       "      <td>VH</td>\n",
       "      <td>5</td>\n",
       "      <td>...</td>\n",
       "      <td>56.0</td>\n",
       "      <td>88.2</td>\n",
       "      <td>128.0</td>\n",
       "      <td>94.3</td>\n",
       "      <td>58.0</td>\n",
       "      <td>100.0</td>\n",
       "      <td>4.0</td>\n",
       "      <td>95.2</td>\n",
       "      <td>51.0</td>\n",
       "      <td>1000.0</td>\n",
       "    </tr>\n",
       "    <tr>\n",
       "      <th>1</th>\n",
       "      <td>2</td>\n",
       "      <td>2</td>\n",
       "      <td>2</td>\n",
       "      <td>University of Cambridge</td>\n",
       "      <td>UK</td>\n",
       "      <td>United Kingdom</td>\n",
       "      <td>L</td>\n",
       "      <td>FC</td>\n",
       "      <td>VH</td>\n",
       "      <td>5</td>\n",
       "      <td>...</td>\n",
       "      <td>64.0</td>\n",
       "      <td>95.8</td>\n",
       "      <td>85.0</td>\n",
       "      <td>99.9</td>\n",
       "      <td>7.0</td>\n",
       "      <td>100.0</td>\n",
       "      <td>6.0</td>\n",
       "      <td>97.3</td>\n",
       "      <td>33.0</td>\n",
       "      <td>992.0</td>\n",
       "    </tr>\n",
       "    <tr>\n",
       "      <th>2</th>\n",
       "      <td>3</td>\n",
       "      <td>3</td>\n",
       "      <td>4</td>\n",
       "      <td>University of Oxford</td>\n",
       "      <td>UK</td>\n",
       "      <td>United Kingdom</td>\n",
       "      <td>L</td>\n",
       "      <td>FC</td>\n",
       "      <td>VH</td>\n",
       "      <td>5</td>\n",
       "      <td>...</td>\n",
       "      <td>110.0</td>\n",
       "      <td>98.2</td>\n",
       "      <td>60.0</td>\n",
       "      <td>100.0</td>\n",
       "      <td>1.0</td>\n",
       "      <td>100.0</td>\n",
       "      <td>3.0</td>\n",
       "      <td>97.8</td>\n",
       "      <td>26.0</td>\n",
       "      <td>989.0</td>\n",
       "    </tr>\n",
       "    <tr>\n",
       "      <th>3</th>\n",
       "      <td>4</td>\n",
       "      <td>4</td>\n",
       "      <td>5</td>\n",
       "      <td>Harvard University</td>\n",
       "      <td>US</td>\n",
       "      <td>United States</td>\n",
       "      <td>L</td>\n",
       "      <td>FC</td>\n",
       "      <td>VH</td>\n",
       "      <td>5</td>\n",
       "      <td>...</td>\n",
       "      <td>210.0</td>\n",
       "      <td>66.8</td>\n",
       "      <td>223.0</td>\n",
       "      <td>100.0</td>\n",
       "      <td>5.0</td>\n",
       "      <td>100.0</td>\n",
       "      <td>1.0</td>\n",
       "      <td>96.7</td>\n",
       "      <td>39.0</td>\n",
       "      <td>983.0</td>\n",
       "    </tr>\n",
       "    <tr>\n",
       "      <th>4</th>\n",
       "      <td>5</td>\n",
       "      <td>5</td>\n",
       "      <td>3</td>\n",
       "      <td>Stanford University</td>\n",
       "      <td>US</td>\n",
       "      <td>United States</td>\n",
       "      <td>L</td>\n",
       "      <td>FC</td>\n",
       "      <td>VH</td>\n",
       "      <td>5</td>\n",
       "      <td>...</td>\n",
       "      <td>78.0</td>\n",
       "      <td>51.2</td>\n",
       "      <td>284.0</td>\n",
       "      <td>95.8</td>\n",
       "      <td>44.0</td>\n",
       "      <td>100.0</td>\n",
       "      <td>2.0</td>\n",
       "      <td>94.4</td>\n",
       "      <td>63.0</td>\n",
       "      <td>981.0</td>\n",
       "    </tr>\n",
       "  </tbody>\n",
       "</table>\n",
       "<p>5 rows × 30 columns</p>\n",
       "</div>"
      ],
      "text/plain": [
       "   index 2024 RANK 2023 RANK                              Institution Name  \\\n",
       "0      1         1         1  Massachusetts Institute of Technology (MIT)    \n",
       "1      2         2         2                       University of Cambridge   \n",
       "2      3         3         4                          University of Oxford   \n",
       "3      4         4         5                            Harvard University   \n",
       "4      5         5         3                           Stanford University   \n",
       "\n",
       "  Country Code         Country SIZE FOCUS RES. AGE  ...  \\\n",
       "0           US   United States    M    CO   VH   5  ...   \n",
       "1           UK  United Kingdom    L    FC   VH   5  ...   \n",
       "2           UK  United Kingdom    L    FC   VH   5  ...   \n",
       "3           US   United States    L    FC   VH   5  ...   \n",
       "4           US   United States    L    FC   VH   5  ...   \n",
       "\n",
       "  International Faculty Rank  International Students Score  \\\n",
       "0                       56.0                          88.2   \n",
       "1                       64.0                          95.8   \n",
       "2                      110.0                          98.2   \n",
       "3                      210.0                          66.8   \n",
       "4                       78.0                          51.2   \n",
       "\n",
       "   International Students Rank  International Research Network Score  \\\n",
       "0                        128.0                                  94.3   \n",
       "1                         85.0                                  99.9   \n",
       "2                         60.0                                 100.0   \n",
       "3                        223.0                                 100.0   \n",
       "4                        284.0                                  95.8   \n",
       "\n",
       "   International Research Network Rank  Employment Outcomes Score  \\\n",
       "0                                 58.0                      100.0   \n",
       "1                                  7.0                      100.0   \n",
       "2                                  1.0                      100.0   \n",
       "3                                  5.0                      100.0   \n",
       "4                                 44.0                      100.0   \n",
       "\n",
       "   Employment Outcomes Rank  Sustainability Score  Sustainability Rank  \\\n",
       "0                       4.0                  95.2                 51.0   \n",
       "1                       6.0                  97.3                 33.0   \n",
       "2                       3.0                  97.8                 26.0   \n",
       "3                       1.0                  96.7                 39.0   \n",
       "4                       2.0                  94.4                 63.0   \n",
       "\n",
       "   Overall SCORE  \n",
       "0         1000.0  \n",
       "1          992.0  \n",
       "2          989.0  \n",
       "3          983.0  \n",
       "4          981.0  \n",
       "\n",
       "[5 rows x 30 columns]"
      ]
     },
     "execution_count": 312,
     "metadata": {},
     "output_type": "execute_result"
    }
   ],
   "source": [
    "# Step 0: look at only top 300 schools\n",
    "df = df[:300]\n",
    "\n",
    "# Step 1: drop the extra column headers\n",
    "df.drop(labels=[0], axis=0, inplace=True) # Step 1: drop the extra column headers\n",
    "df.reset_index(inplace=True) # reset the index\n",
    "\n",
    "score_col = [\n",
    "    \"Academic Reputation Score\",\n",
    "    \"Employer Reputation Score\",\n",
    "    \"Faculty Student Score\",\n",
    "    \"Citations per Faculty Score\",\n",
    "    \"International Faculty Score\",\n",
    "    \"International Students Score\",\n",
    "    \"International Research Network Score\",\n",
    "    \"Employment Outcomes Score\",\n",
    "    \"Sustainability Score\"\n",
    "]\n",
    "\n",
    "rank_col = [\n",
    "    \"Academic Reputation Rank\",\n",
    "    \"Employer Reputation Rank\",\n",
    "    \"Faculty Student Rank\",\n",
    "    \"Citations per Faculty Rank\",\n",
    "    \"International Faculty Rank\",\n",
    "    \"International Students Rank\",\n",
    "    \"International Research Network Rank\",\n",
    "    \"Employment Outcomes Rank\",\n",
    "    \"Sustainability Rank\"\n",
    "]\n",
    "\n",
    "# Step 2: set score values to float\n",
    "def make_col_float(score_type):\n",
    "    return df[score_type].astype(float)\n",
    "\n",
    "for col in score_col:\n",
    "    df[col] = make_col_float(col)\n",
    "\n",
    "# Step 3: remove non numerical values f\n",
    "import re\n",
    "def remove_non_numeric(value):\n",
    "    return re.sub(r'[^0-9]', '', value)\n",
    "\n",
    "# Remove all non numeric characters, I.e 701+ is just 701\n",
    "for col in rank_col:\n",
    "    df[col] = df[col].apply(remove_non_numeric)\n",
    "    df[col] = df[col].astype(float)\n",
    "\n",
    "# Overall Score has some '-' as well. \n",
    "df['Overall SCORE'] = df['Overall SCORE'].apply(remove_non_numeric)\n",
    "df['Overall SCORE'] = df['Overall SCORE'].astype(float)\n",
    "\n",
    "df.head()"
   ]
  },
  {
   "cell_type": "markdown",
   "metadata": {},
   "source": [
    "## Step 2: Explanatory Data Analysis\n",
    "Let's begin with some simple charts to visualize the data. First let's see where these schools are from. Since there are too many, we can first just plot the top 10.\n"
   ]
  },
  {
   "cell_type": "code",
   "execution_count": 313,
   "metadata": {},
   "outputs": [
    {
     "data": {
      "image/png": "[encoded data removed]",
      "text/plain": [
       "<Figure size 576x576 with 1 Axes>"
      ]
     },
     "metadata": {},
     "output_type": "display_data"
    },
    {
     "data": {
      "text/plain": [
       "<Figure size 432x288 with 0 Axes>"
      ]
     },
     "metadata": {},
     "output_type": "display_data"
    }
   ],
   "source": [
    "import matplotlib.pyplot as plt\n",
    "import seaborn as sns\n",
    "\n",
    "# Set Up\n",
    "fig, axes = plt.subplots(nrows=1, ncols=1, figsize=(8,8))\n",
    "fig.set_facecolor('#f0f0f0') \n",
    "\n",
    "# Country\n",
    "country_code = df['Country Code'].value_counts().reset_index()\n",
    "country_code.columns = ['Country Code', 'Count']\n",
    "# country_code.sort_values(by='Country Code', ascending=False, inplace=True)\n",
    "\n",
    "# Practice: Aquire Country Code names\n",
    "country_code_country_map = df[['Country Code', 'Country']]\n",
    "country_code_country_map = country_code_country_map.drop_duplicates(subset='Country') \n",
    "merged_df = country_code.merge(country_code_country_map, on='Country Code', how='left') # LEFT JOIN\n",
    "merged_df.sort_values(by='Count', ascending=False, inplace=True)\n",
    "merged_df.set_index('Country Code', inplace=True)\n",
    "merged_df[:10].plot(kind='bar', y='Count', ylabel='Count', ax=axes, title='Distribution by Region', )\n",
    "# axes.legend(merged_df['Country'])\n",
    "axes.bar_label(axes.containers[0])\n",
    "\n",
    "plt.show()\n",
    "plt.clf()"
   ]
  },
  {
   "cell_type": "markdown",
   "metadata": {},
   "source": [
    "From this we can see, the US is the leading country with the most number of schools in the top 1400+. What if we look at schools only in the top 100. "
   ]
  },
  {
   "cell_type": "code",
   "execution_count": 314,
   "metadata": {},
   "outputs": [
    {
     "data": {
      "image/png": "[encoded data removed]",
      "text/plain": [
       "<Figure size 576x576 with 1 Axes>"
      ]
     },
     "metadata": {},
     "output_type": "display_data"
    },
    {
     "data": {
      "text/plain": [
       "<Figure size 432x288 with 0 Axes>"
      ]
     },
     "metadata": {},
     "output_type": "display_data"
    }
   ],
   "source": [
    "# Set Up\n",
    "fig, axes = plt.subplots(nrows=1, ncols=1, figsize=(8,8))\n",
    "fig.set_facecolor('#f0f0f0') \n",
    "\n",
    "top_100 = df[:100]\n",
    "top_100_by_country = top_100['Country Code'].value_counts().reset_index()\n",
    "top_100_by_country.columns = ['Country Code', 'Count']\n",
    "top_100_by_country.set_index('Country Code', inplace=True)\n",
    "top_100_by_country.plot(kind='bar', y='Count', ylabel='Count', ax=axes, title='Top 100 By Country')\n",
    "axes.bar_label(axes.containers[0])\n",
    "\n",
    "plt.show()\n",
    "plt.clf()"
   ]
  },
  {
   "cell_type": "markdown",
   "metadata": {},
   "source": [
    "QS also classifies institutions across five dimensions for the purposes of rankings comparison. "
   ]
  },
  {
   "cell_type": "code",
   "execution_count": 315,
   "metadata": {},
   "outputs": [
    {
     "data": {
      "image/png": "[encoded data removed]",
      "text/plain": [
       "<Figure size 1800x360 with 5 Axes>"
      ]
     },
     "metadata": {},
     "output_type": "display_data"
    }
   ],
   "source": [
    "# SETUP Plots\n",
    "fig, axes = plt.subplots(nrows=1, ncols=5, figsize=(25, 5))\n",
    "fig.set_facecolor('#f0f0f0') \n",
    "\n",
    "# Classifications of Universities, Size, Focus, Res., Age, Status\n",
    "size = df.groupby(by='SIZE').size() # Get counts \n",
    "focus = df.groupby(by='FOCUS').size() \n",
    "res = df.groupby(by='RES.').size()\n",
    "age = df.groupby(by='AGE').size()\n",
    "status = df.groupby(by='STATUS').size()\n",
    "\n",
    "\n",
    "size.plot(kind='pie', ax=axes[0], title='Distribution of College Sizes', autopct='%1.1f%%')\n",
    "focus.plot(kind='pie', ax=axes[1], title='Distribution of Focus', autopct='%1.1f%%')\n",
    "res.plot(kind='pie', ax=axes[2], title='Distribution of RES.', autopct='%1.1f%%')\n",
    "age.plot(kind='pie', ax=axes[3], title='Distribution of Ages', autopct='%1.1f%%')\n",
    "status.plot(kind='pie', ax=axes[4], title='Distribution of Status', autopct='%1.1f%%')\n",
    "plt.show()\n",
    "\n",
    "del size, focus, res, age, status\n",
    "# \n"
   ]
  },
  {
   "cell_type": "markdown",
   "metadata": {},
   "source": [
    "We can see the distribution of different classifications of the university using pie charts. The definiton of the categories can be found [here](https://support.qs.com/hc/en-gb/articles/360021876820-QS-Institution-Classifications). We can come to some conclusions.\n",
    "1. A large majority of colleges in the data set are considered large, in other words, with a student body more than or equal to 1200\n",
    "2. Most colleges have a focus/subject range of FC, or full comprehensive.\n",
    "3. A large majority of colleges in the data have a very high level research intensity.\n",
    "4. Most schools are over 100 years old.\n",
    "\n",
    "Next, let's see how the rankings of university compare for the different categories such as \n",
    "1.  Academic Reputation Rank\n",
    "2.  Employer Reuptation Rank\n",
    "3.  Faculty Student Rank\n",
    "4.  Citations per Faculty Rank\n",
    "5.  International Faculty Rank\n",
    "6.  International Students Rank\n",
    "7.  International Research Network Rank\n",
    "8.  Employment Outcomes Rank\n",
    "9.  Sustainability Rank\n",
    "\n",
    "At first I attempted a horizontal bar chart."
   ]
  },
  {
   "cell_type": "code",
   "execution_count": 316,
   "metadata": {},
   "outputs": [
    {
     "data": {
      "image/png": "[encoded data removed]",
      "text/plain": [
       "<Figure size 1440x720 with 2 Axes>"
      ]
     },
     "metadata": {},
     "output_type": "display_data"
    }
   ],
   "source": [
    "fig, axes = plt.subplots(nrows=1, ncols=2, figsize=(20,10))\n",
    "fig.set_facecolor('#f0f0f0') \n",
    "\n",
    "# Rank schools by \n",
    "academic_rep_score = df.sort_values(by='Academic Reputation Score', ascending=False)\n",
    "academic_rep_score[:10].set_index('Institution Name').plot(kind='barh', y='Academic Reputation Score', ax=axes[0])\n",
    "axes[0].bar_label(axes[0].containers[0])\n",
    "\n",
    "employer_rep_score = df.sort_values(by='Employer Reputation Score', ascending=False)\n",
    "# print(employer_rep_score[['Institution Name', 'Employer Reputation Score']])\n",
    "employer_rep_score[:10].set_index('Institution Name').plot(kind='barh', y='Employer Reputation Score', ax=axes[1])\n",
    "axes[1].bar_label(axes[1].containers[0])\n",
    "\n",
    "del academic_rep_score, employer_rep_score"
   ]
  },
  {
   "cell_type": "markdown",
   "metadata": {},
   "source": [
    "However, I found that graphing this way didn't give me a visualization that was useful. Instead, just sorting and printing out the top 10 was easier to read. Not all visualizations work!"
   ]
  },
  {
   "cell_type": "code",
   "execution_count": 317,
   "metadata": {},
   "outputs": [
    {
     "name": "stdout",
     "output_type": "stream",
     "text": [
      "Academic Reputation Rank\n",
      "                                Institution Name  Academic Reputation Rank\n",
      "3                             Harvard University                       1.0\n",
      "2                           University of Oxford                       2.0\n",
      "1                        University of Cambridge                       3.0\n",
      "0   Massachusetts Institute of Technology (MIT)                        4.0\n",
      "4                            Stanford University                       5.0\n",
      "9       University of California, Berkeley (UCB)                       6.0\n",
      "28                       The University of Tokyo                       7.0\n",
      "29  University of California, Los Angeles (UCLA)                       8.0\n",
      "15                               Yale University                       9.0\n",
      "17                          Princeton University                      10.0\n",
      "Employer Reputation Rank\n",
      "                                Institution Name  Employer Reputation Rank\n",
      "3                             Harvard University                       1.0\n",
      "0   Massachusetts Institute of Technology (MIT)                        2.0\n",
      "4                            Stanford University                       3.0\n",
      "1                        University of Cambridge                       4.0\n",
      "2                           University of Oxford                       5.0\n",
      "9       University of California, Berkeley (UCB)                       6.0\n",
      "15                               Yale University                       7.0\n",
      "29  University of California, Los Angeles (UCLA)                       8.0\n",
      "28                       The University of Tokyo                       9.0\n",
      "37               Institut Polytechnique de Paris                      10.0\n",
      "Faculty Student Rank\n",
      "                                 Institution Name  Faculty Student Rank\n",
      "15                                Yale University                   3.0\n",
      "14   California Institute of Technology (Caltech)                   5.0\n",
      "56                                Duke University                   7.0\n",
      "2                            University of Oxford                   8.0\n",
      "27                       Johns Hopkins University                   8.0\n",
      "260                         Vanderbilt University                   9.0\n",
      "4                             Stanford University                  11.0\n",
      "1                         University of Cambridge                  14.0\n",
      "22                            Columbia University                  15.0\n",
      "0    Massachusetts Institute of Technology (MIT)                   16.0\n",
      "Citations per Faculty Rank\n",
      "                                 Institution Name  Citations per Faculty Rank\n",
      "3                              Harvard University                         1.0\n",
      "17                           Princeton University                         2.0\n",
      "14   California Institute of Technology (Caltech)                         3.0\n",
      "0    Massachusetts Institute of Technology (MIT)                          4.0\n",
      "224                   Indian Institute of Science                         6.0\n",
      "9        University of California, Berkeley (UCB)                         7.0\n",
      "4                             Stanford University                         8.0\n",
      "69                   City University of Hong Kong                         9.0\n",
      "51                     Carnegie Mellon University                        10.0\n",
      "214                           Tel Aviv University                        11.0\n",
      "International Faculty Rank\n",
      "                                      Institution Name  \\\n",
      "230       Khalifa University of Science and Technology   \n",
      "289                    United Arab Emirates University   \n",
      "69                        City University of Hong Kong   \n",
      "253                                University of Macau   \n",
      "59   The Hong Kong University of Science and Techno...   \n",
      "172                                   Qatar University   \n",
      "6    ETH Zurich - Swiss Federal Institute of Techno...   \n",
      "179       King Fahd University of Petroleum & Minerals   \n",
      "35                                                EPFL   \n",
      "26                         The University of Hong Kong   \n",
      "\n",
      "     International Faculty Rank  \n",
      "230                        10.0  \n",
      "289                        16.0  \n",
      "69                         17.0  \n",
      "253                        18.0  \n",
      "59                         19.0  \n",
      "172                        20.0  \n",
      "6                          22.0  \n",
      "179                        24.0  \n",
      "35                         25.0  \n",
      "26                         28.0  \n",
      "International Students Rank\n",
      "                                      Institution Name  \\\n",
      "69                        City University of Hong Kong   \n",
      "44   The London School of Economics and Political S...   \n",
      "35                                                EPFL   \n",
      "19                            The University of Sydney   \n",
      "5                              Imperial College London   \n",
      "8                                                  UCL   \n",
      "256                             Maastricht University    \n",
      "41                                   Monash University   \n",
      "294                       Hong Kong Baptist University   \n",
      "42                        The University of Queensland   \n",
      "\n",
      "     International Students Rank  \n",
      "69                           2.0  \n",
      "44                          10.0  \n",
      "35                          12.0  \n",
      "19                          13.0  \n",
      "5                           14.0  \n",
      "8                           15.0  \n",
      "256                         17.0  \n",
      "41                          19.0  \n",
      "294                         20.0  \n",
      "42                          22.0  \n",
      "International Research Network Rank\n",
      "                 Institution Name  International Research Network Rank\n",
      "2            University of Oxford                                  1.0\n",
      "8                             UCL                                  2.0\n",
      "23                 Université PSL                                  3.0\n",
      "58            Sorbonne University                                  4.0\n",
      "3              Harvard University                                  5.0\n",
      "60                      KU Leuven                                  6.0\n",
      "1         University of Cambridge                                  7.0\n",
      "158              Ghent University                                  8.0\n",
      "31   The University of Manchester                                 10.0\n",
      "235      Université de Paris-Cité                                 11.0\n",
      "Employment Outcomes Rank\n",
      "                                Institution Name  Employment Outcomes Rank\n",
      "3                             Harvard University                       1.0\n",
      "4                            Stanford University                       2.0\n",
      "2                           University of Oxford                       3.0\n",
      "0   Massachusetts Institute of Technology (MIT)                        4.0\n",
      "11                    University of Pennsylvania                       5.0\n",
      "1                        University of Cambridge                       6.0\n",
      "7         National University of Singapore (NUS)                       7.0\n",
      "40                     Seoul National University                       8.0\n",
      "15                               Yale University                       9.0\n",
      "22                           Columbia University                      10.0\n",
      "Sustainability Rank\n",
      "                                    Institution Name  Sustainability Rank\n",
      "9           University of California, Berkeley (UCB)                  1.0\n",
      "20                             University of Toronto                  2.0\n",
      "11                        University of Pennsylvania                  3.0\n",
      "34                    University of British Columbia                  3.0\n",
      "28                           The University of Tokyo                  5.0\n",
      "21                       The University of Edinburgh                  6.0\n",
      "19                          The University of Sydney                  7.0\n",
      "113                               Western University                  8.0\n",
      "67                        The University of Auckland                  9.0\n",
      "18   The University of New South Wales (UNSW Sydney)                 10.0\n"
     ]
    }
   ],
   "source": [
    "for col in rank_col:\n",
    "    print(col)\n",
    "    ranking = df.sort_values(by=col, ascending=True)\n",
    "    ranking = ranking[['Institution Name', col]][:10]\n",
    "    print(ranking)\n",
    "    "
   ]
  },
  {
   "cell_type": "markdown",
   "metadata": {},
   "source": [
    "Seeing the universities ordered by a single attribute, there are some unusual things we can pick out. For example, for `Faculty Student Rank`, the top 3 ranking are actually not in the top 300 schools (which our data set consists of). \n",
    "\n",
    "Perhaps, we can see the distribution of scores instead. "
   ]
  },
  {
   "cell_type": "code",
   "execution_count": 385,
   "metadata": {},
   "outputs": [
    {
     "data": {
      "image/png": "[encoded data removed]",
      "text/plain": [
       "<Figure size 1440x576 with 1 Axes>"
      ]
     },
     "metadata": {
      "needs_background": "light"
     },
     "output_type": "display_data"
    }
   ],
   "source": [
    "fig, ax = plt.subplots(figsize=(20,8))\n",
    "for index, col in enumerate(score_col):\n",
    "    sns.histplot(df[col], label=col, bins=20, kde =False, color = sns.color_palette(\"Set1\")[index],ax=ax, multiple=\"stack\")\n",
    "\n",
    "ax.legend(loc=\"upper left\", bbox_to_anchor=(1, 1))\n",
    "plt.ylabel(ylabel = \"Number of Schools\", fontsize=25)\n",
    "plt.xticks(fontsize = 15)\n",
    "plt.yticks(fontsize = 15)\n",
    "plt.xlabel(xlabel= \"Score\", fontsize=25)\n",
    "fig.suptitle('Distribution of Score Across Various Categories', fontsize=20, x = 0.5, y = 0.95)\n",
    "plt.show()\n"
   ]
  },
  {
   "cell_type": "code",
   "execution_count": 418,
   "metadata": {},
   "outputs": [
    {
     "data": {
      "image/png": "[encoded data removed]",
      "text/plain": [
       "<Figure size 648x648 with 9 Axes>"
      ]
     },
     "metadata": {
      "needs_background": "light"
     },
     "output_type": "display_data"
    }
   ],
   "source": [
    "# Create a FacetGrid for multiple histograms side by side\n",
    "g = sns.FacetGrid(df[score_col].melt(), col=\"variable\", col_wrap=3, sharey=False, height=3)\n",
    "g.map(sns.histplot, \"value\", bins=20, kde=False, color=sns.color_palette(\"Set1\")[1])\n",
    "\n",
    "# Customize plot appearance\n",
    "g.set_axis_labels(\"Score\", \"Number of Schools\")\n",
    "g.set_titles(col_template=\"{col_name}\")\n",
    "g.set_xticklabels(fontsize=15)\n",
    "g.set_yticklabels(fontsize=15)\n",
    "\n",
    "# Add a common title\n",
    "plt.subplots_adjust(top=0.85)\n",
    "g.fig.suptitle('Distribution of Score Across Various Categories', fontsize=20)\n",
    "\n",
    "# Show the plot\n",
    "plt.show()"
   ]
  },
  {
   "cell_type": "markdown",
   "metadata": {},
   "source": [
    "We visualized the distribution together and each alone. We can see that for most score types, there is a majority of scores that are in the 90~100 range. This can mean that it is very probable that most schools have at least one strong suit. We can actually confirm this. \n"
   ]
  },
  {
   "cell_type": "code",
   "execution_count": 420,
   "metadata": {},
   "outputs": [
    {
     "name": "stdout",
     "output_type": "stream",
     "text": [
      "(229, 30)\n"
     ]
    }
   ],
   "source": [
    "\n",
    "at_least_one_high = df[(df[\"Academic Reputation Score\"] > 90) |\n",
    "    (df[\"Employer Reputation Score\"] > 90) |\n",
    "    (df[\"Faculty Student Score\"] > 90) |\n",
    "    (df[\"Citations per Faculty Score\"] > 90) |\n",
    "    (df[\"International Faculty Score\"] > 90) |\n",
    "    (df[\"International Students Score\"] > 90) |\n",
    "    (df[\"International Research Network Score\"] > 90) |\n",
    "    (df[\"Employment Outcomes Score\"] > 90) |\n",
    "    (df[\"Sustainability Score\"] > 90) \n",
    "]\n",
    "print(at_least_one_high.shape)\n"
   ]
  },
  {
   "cell_type": "markdown",
   "metadata": {},
   "source": [
    "Out of 300, 229 had at least one score type greater than 90.\n",
    "\n",
    "Another useful EDA tatic is use the Radar Chart to see the performance of a single school in these various categories."
   ]
  },
  {
   "cell_type": "code",
   "execution_count": 318,
   "metadata": {},
   "outputs": [
    {
     "data": {
      "application/vnd.plotly.v1+json": {
       "config": {
        "plotlyServerURL": "https://plot.ly"
       },
       "data": [
        {
         "hovertemplate": "Score=%{r}<br>Score Type=%{theta}<extra></extra>",
         "legendgroup": "",
         "line": {
          "color": "#636efa",
          "dash": "solid"
         },
         "marker": {
          "symbol": "circle"
         },
         "mode": "lines",
         "name": "",
         "r": [
          99.1,
          96.9,
          93.9,
          98.9,
          9.4,
          15.7,
          47.8,
          82.2,
          55.8,
          99.1
         ],
         "showlegend": false,
         "subplot": "polar",
         "theta": [
          "Academic Reputation Score",
          "Employer Reputation Score",
          "Faculty Student Score",
          "Citations per Faculty Score",
          "International Faculty Score",
          "International Students Score",
          "International Research Network Score",
          "Employment Outcomes Score",
          "Sustainability Score",
          "Academic Reputation Score"
         ],
         "type": "scatterpolar"
        }
       ],
       "layout": {
        "legend": {
         "tracegroupgap": 0
        },
        "polar": {
         "angularaxis": {
          "direction": "clockwise",
          "rotation": 90
         },
         "domain": {
          "x": [
           0,
           1
          ],
          "y": [
           0,
           1
          ]
         }
        },
        "template": {
         "data": {
          "bar": [
           {
            "error_x": {
             "color": "#2a3f5f"
            },
            "error_y": {
             "color": "#2a3f5f"
            },
            "marker": {
             "line": {
              "color": "#E5ECF6",
              "width": 0.5
             },
             "pattern": {
              "fillmode": "overlay",
              "size": 10,
              "solidity": 0.2
             }
            },
            "type": "bar"
           }
          ],
          "barpolar": [
           {
            "marker": {
             "line": {
              "color": "#E5ECF6",
              "width": 0.5
             },
             "pattern": {
              "fillmode": "overlay",
              "size": 10,
              "solidity": 0.2
             }
            },
            "type": "barpolar"
           }
          ],
          "carpet": [
           {
            "aaxis": {
             "endlinecolor": "#2a3f5f",
             "gridcolor": "white",
             "linecolor": "white",
             "minorgridcolor": "white",
             "startlinecolor": "#2a3f5f"
            },
            "baxis": {
             "endlinecolor": "#2a3f5f",
             "gridcolor": "white",
             "linecolor": "white",
             "minorgridcolor": "white",
             "startlinecolor": "#2a3f5f"
            },
            "type": "carpet"
           }
          ],
          "choropleth": [
           {
            "colorbar": {
             "outlinewidth": 0,
             "ticks": ""
            },
            "type": "choropleth"
           }
          ],
          "contour": [
           {
            "colorbar": {
             "outlinewidth": 0,
             "ticks": ""
            },
            "colorscale": [
             [
              0,
              "#0d0887"
             ],
             [
              0.1111111111111111,
              "#46039f"
             ],
             [
              0.2222222222222222,
              "#7201a8"
             ],
             [
              0.3333333333333333,
              "#9c179e"
             ],
             [
              0.4444444444444444,
              "#bd3786"
             ],
             [
              0.5555555555555556,
              "#d8576b"
             ],
             [
              0.6666666666666666,
              "#ed7953"
             ],
             [
              0.7777777777777778,
              "#fb9f3a"
             ],
             [
              0.8888888888888888,
              "#fdca26"
             ],
             [
              1,
              "#f0f921"
             ]
            ],
            "type": "contour"
           }
          ],
          "contourcarpet": [
           {
            "colorbar": {
             "outlinewidth": 0,
             "ticks": ""
            },
            "type": "contourcarpet"
           }
          ],
          "heatmap": [
           {
            "colorbar": {
             "outlinewidth": 0,
             "ticks": ""
            },
            "colorscale": [
             [
              0,
              "#0d0887"
             ],
             [
              0.1111111111111111,
              "#46039f"
             ],
             [
              0.2222222222222222,
              "#7201a8"
             ],
             [
              0.3333333333333333,
              "#9c179e"
             ],
             [
              0.4444444444444444,
              "#bd3786"
             ],
             [
              0.5555555555555556,
              "#d8576b"
             ],
             [
              0.6666666666666666,
              "#ed7953"
             ],
             [
              0.7777777777777778,
              "#fb9f3a"
             ],
             [
              0.8888888888888888,
              "#fdca26"
             ],
             [
              1,
              "#f0f921"
             ]
            ],
            "type": "heatmap"
           }
          ],
          "heatmapgl": [
           {
            "colorbar": {
             "outlinewidth": 0,
             "ticks": ""
            },
            "colorscale": [
             [
              0,
              "#0d0887"
             ],
             [
              0.1111111111111111,
              "#46039f"
             ],
             [
              0.2222222222222222,
              "#7201a8"
             ],
             [
              0.3333333333333333,
              "#9c179e"
             ],
             [
              0.4444444444444444,
              "#bd3786"
             ],
             [
              0.5555555555555556,
              "#d8576b"
             ],
             [
              0.6666666666666666,
              "#ed7953"
             ],
             [
              0.7777777777777778,
              "#fb9f3a"
             ],
             [
              0.8888888888888888,
              "#fdca26"
             ],
             [
              1,
              "#f0f921"
             ]
            ],
            "type": "heatmapgl"
           }
          ],
          "histogram": [
           {
            "marker": {
             "pattern": {
              "fillmode": "overlay",
              "size": 10,
              "solidity": 0.2
             }
            },
            "type": "histogram"
           }
          ],
          "histogram2d": [
           {
            "colorbar": {
             "outlinewidth": 0,
             "ticks": ""
            },
            "colorscale": [
             [
              0,
              "#0d0887"
             ],
             [
              0.1111111111111111,
              "#46039f"
             ],
             [
              0.2222222222222222,
              "#7201a8"
             ],
             [
              0.3333333333333333,
              "#9c179e"
             ],
             [
              0.4444444444444444,
              "#bd3786"
             ],
             [
              0.5555555555555556,
              "#d8576b"
             ],
             [
              0.6666666666666666,
              "#ed7953"
             ],
             [
              0.7777777777777778,
              "#fb9f3a"
             ],
             [
              0.8888888888888888,
              "#fdca26"
             ],
             [
              1,
              "#f0f921"
             ]
            ],
            "type": "histogram2d"
           }
          ],
          "histogram2dcontour": [
           {
            "colorbar": {
             "outlinewidth": 0,
             "ticks": ""
            },
            "colorscale": [
             [
              0,
              "#0d0887"
             ],
             [
              0.1111111111111111,
              "#46039f"
             ],
             [
              0.2222222222222222,
              "#7201a8"
             ],
             [
              0.3333333333333333,
              "#9c179e"
             ],
             [
              0.4444444444444444,
              "#bd3786"
             ],
             [
              0.5555555555555556,
              "#d8576b"
             ],
             [
              0.6666666666666666,
              "#ed7953"
             ],
             [
              0.7777777777777778,
              "#fb9f3a"
             ],
             [
              0.8888888888888888,
              "#fdca26"
             ],
             [
              1,
              "#f0f921"
             ]
            ],
            "type": "histogram2dcontour"
           }
          ],
          "mesh3d": [
           {
            "colorbar": {
             "outlinewidth": 0,
             "ticks": ""
            },
            "type": "mesh3d"
           }
          ],
          "parcoords": [
           {
            "line": {
             "colorbar": {
              "outlinewidth": 0,
              "ticks": ""
             }
            },
            "type": "parcoords"
           }
          ],
          "pie": [
           {
            "automargin": true,
            "type": "pie"
           }
          ],
          "scatter": [
           {
            "fillpattern": {
             "fillmode": "overlay",
             "size": 10,
             "solidity": 0.2
            },
            "type": "scatter"
           }
          ],
          "scatter3d": [
           {
            "line": {
             "colorbar": {
              "outlinewidth": 0,
              "ticks": ""
             }
            },
            "marker": {
             "colorbar": {
              "outlinewidth": 0,
              "ticks": ""
             }
            },
            "type": "scatter3d"
           }
          ],
          "scattercarpet": [
           {
            "marker": {
             "colorbar": {
              "outlinewidth": 0,
              "ticks": ""
             }
            },
            "type": "scattercarpet"
           }
          ],
          "scattergeo": [
           {
            "marker": {
             "colorbar": {
              "outlinewidth": 0,
              "ticks": ""
             }
            },
            "type": "scattergeo"
           }
          ],
          "scattergl": [
           {
            "marker": {
             "colorbar": {
              "outlinewidth": 0,
              "ticks": ""
             }
            },
            "type": "scattergl"
           }
          ],
          "scattermapbox": [
           {
            "marker": {
             "colorbar": {
              "outlinewidth": 0,
              "ticks": ""
             }
            },
            "type": "scattermapbox"
           }
          ],
          "scatterpolar": [
           {
            "marker": {
             "colorbar": {
              "outlinewidth": 0,
              "ticks": ""
             }
            },
            "type": "scatterpolar"
           }
          ],
          "scatterpolargl": [
           {
            "marker": {
             "colorbar": {
              "outlinewidth": 0,
              "ticks": ""
             }
            },
            "type": "scatterpolargl"
           }
          ],
          "scatterternary": [
           {
            "marker": {
             "colorbar": {
              "outlinewidth": 0,
              "ticks": ""
             }
            },
            "type": "scatterternary"
           }
          ],
          "surface": [
           {
            "colorbar": {
             "outlinewidth": 0,
             "ticks": ""
            },
            "colorscale": [
             [
              0,
              "#0d0887"
             ],
             [
              0.1111111111111111,
              "#46039f"
             ],
             [
              0.2222222222222222,
              "#7201a8"
             ],
             [
              0.3333333333333333,
              "#9c179e"
             ],
             [
              0.4444444444444444,
              "#bd3786"
             ],
             [
              0.5555555555555556,
              "#d8576b"
             ],
             [
              0.6666666666666666,
              "#ed7953"
             ],
             [
              0.7777777777777778,
              "#fb9f3a"
             ],
             [
              0.8888888888888888,
              "#fdca26"
             ],
             [
              1,
              "#f0f921"
             ]
            ],
            "type": "surface"
           }
          ],
          "table": [
           {
            "cells": {
             "fill": {
              "color": "#EBF0F8"
             },
             "line": {
              "color": "white"
             }
            },
            "header": {
             "fill": {
              "color": "#C8D4E3"
             },
             "line": {
              "color": "white"
             }
            },
            "type": "table"
           }
          ]
         },
         "layout": {
          "annotationdefaults": {
           "arrowcolor": "#2a3f5f",
           "arrowhead": 0,
           "arrowwidth": 1
          },
          "autotypenumbers": "strict",
          "coloraxis": {
           "colorbar": {
            "outlinewidth": 0,
            "ticks": ""
           }
          },
          "colorscale": {
           "diverging": [
            [
             0,
             "#8e0152"
            ],
            [
             0.1,
             "#c51b7d"
            ],
            [
             0.2,
             "#de77ae"
            ],
            [
             0.3,
             "#f1b6da"
            ],
            [
             0.4,
             "#fde0ef"
            ],
            [
             0.5,
             "#f7f7f7"
            ],
            [
             0.6,
             "#e6f5d0"
            ],
            [
             0.7,
             "#b8e186"
            ],
            [
             0.8,
             "#7fbc41"
            ],
            [
             0.9,
             "#4d9221"
            ],
            [
             1,
             "#276419"
            ]
           ],
           "sequential": [
            [
             0,
             "#0d0887"
            ],
            [
             0.1111111111111111,
             "#46039f"
            ],
            [
             0.2222222222222222,
             "#7201a8"
            ],
            [
             0.3333333333333333,
             "#9c179e"
            ],
            [
             0.4444444444444444,
             "#bd3786"
            ],
            [
             0.5555555555555556,
             "#d8576b"
            ],
            [
             0.6666666666666666,
             "#ed7953"
            ],
            [
             0.7777777777777778,
             "#fb9f3a"
            ],
            [
             0.8888888888888888,
             "#fdca26"
            ],
            [
             1,
             "#f0f921"
            ]
           ],
           "sequentialminus": [
            [
             0,
             "#0d0887"
            ],
            [
             0.1111111111111111,
             "#46039f"
            ],
            [
             0.2222222222222222,
             "#7201a8"
            ],
            [
             0.3333333333333333,
             "#9c179e"
            ],
            [
             0.4444444444444444,
             "#bd3786"
            ],
            [
             0.5555555555555556,
             "#d8576b"
            ],
            [
             0.6666666666666666,
             "#ed7953"
            ],
            [
             0.7777777777777778,
             "#fb9f3a"
            ],
            [
             0.8888888888888888,
             "#fdca26"
            ],
            [
             1,
             "#f0f921"
            ]
           ]
          },
          "colorway": [
           "#636efa",
           "#EF553B",
           "#00cc96",
           "#ab63fa",
           "#FFA15A",
           "#19d3f3",
           "#FF6692",
           "#B6E880",
           "#FF97FF",
           "#FECB52"
          ],
          "font": {
           "color": "#2a3f5f"
          },
          "geo": {
           "bgcolor": "white",
           "lakecolor": "white",
           "landcolor": "#E5ECF6",
           "showlakes": true,
           "showland": true,
           "subunitcolor": "white"
          },
          "hoverlabel": {
           "align": "left"
          },
          "hovermode": "closest",
          "mapbox": {
           "style": "light"
          },
          "paper_bgcolor": "white",
          "plot_bgcolor": "#E5ECF6",
          "polar": {
           "angularaxis": {
            "gridcolor": "white",
            "linecolor": "white",
            "ticks": ""
           },
           "bgcolor": "#E5ECF6",
           "radialaxis": {
            "gridcolor": "white",
            "linecolor": "white",
            "ticks": ""
           }
          },
          "scene": {
           "xaxis": {
            "backgroundcolor": "#E5ECF6",
            "gridcolor": "white",
            "gridwidth": 2,
            "linecolor": "white",
            "showbackground": true,
            "ticks": "",
            "zerolinecolor": "white"
           },
           "yaxis": {
            "backgroundcolor": "#E5ECF6",
            "gridcolor": "white",
            "gridwidth": 2,
            "linecolor": "white",
            "showbackground": true,
            "ticks": "",
            "zerolinecolor": "white"
           },
           "zaxis": {
            "backgroundcolor": "#E5ECF6",
            "gridcolor": "white",
            "gridwidth": 2,
            "linecolor": "white",
            "showbackground": true,
            "ticks": "",
            "zerolinecolor": "white"
           }
          },
          "shapedefaults": {
           "line": {
            "color": "#2a3f5f"
           }
          },
          "ternary": {
           "aaxis": {
            "gridcolor": "white",
            "linecolor": "white",
            "ticks": ""
           },
           "baxis": {
            "gridcolor": "white",
            "linecolor": "white",
            "ticks": ""
           },
           "bgcolor": "#E5ECF6",
           "caxis": {
            "gridcolor": "white",
            "linecolor": "white",
            "ticks": ""
           }
          },
          "title": {
           "x": 0.05
          },
          "xaxis": {
           "automargin": true,
           "gridcolor": "white",
           "linecolor": "white",
           "ticks": "",
           "title": {
            "standoff": 15
           },
           "zerolinecolor": "white",
           "zerolinewidth": 2
          },
          "yaxis": {
           "automargin": true,
           "gridcolor": "white",
           "linecolor": "white",
           "ticks": "",
           "title": {
            "standoff": 15
           },
           "zerolinecolor": "white",
           "zerolinewidth": 2
          }
         }
        },
        "title": {
         "text": "Radar Chart For Tsinghua University"
        }
       }
      }
     },
     "metadata": {},
     "output_type": "display_data"
    }
   ],
   "source": [
    "import plotly.express as px\n",
    "\n",
    "def school_scores(institution_name) -> pd.DataFrame :\n",
    "    institution_scores = df[df['Institution Name'] == institution_name][score_col].transpose()\n",
    "    institution_scores.reset_index(inplace=True)\n",
    "    institution_scores.columns = ['Score Type', 'Score']\n",
    "    institution_scores['Score'] = institution_scores['Score'].astype(float)\n",
    "    # print(institution_scores)\n",
    "    return institution_scores\n",
    "\n",
    "\n",
    "tsinghua = school_scores('Tsinghua University')\n",
    "fig = px.line_polar(tsinghua, r='Score', theta='Score Type', title='Radar Chart For Tsinghua University', line_close=True)\n",
    "fig.show()"
   ]
  },
  {
   "cell_type": "markdown",
   "metadata": {},
   "source": [
    "We can see where the schools strength is and where it is strong. For example, Tsinghua's International scores are quite weak. This can either mean a smaller international faculty, students are less interested in studying abroad in Tsinghua, or more. Further analysis would have to be done to explain these rankings, but it is a good visualization to see the strenghts of a university based on the QS ranking standard. Let's look at some more."
   ]
  },
  {
   "cell_type": "code",
   "execution_count": 319,
   "metadata": {},
   "outputs": [
    {
     "data": {
      "application/vnd.plotly.v1+json": {
       "config": {
        "plotlyServerURL": "https://plot.ly"
       },
       "data": [
        {
         "hovertemplate": "Model=MIT<br>Score=%{r}<br>Score Type=%{theta}<extra></extra>",
         "legendgroup": "MIT",
         "line": {
          "color": "#636efa",
          "dash": "solid"
         },
         "marker": {
          "symbol": "circle"
         },
         "mode": "lines",
         "name": "MIT",
         "r": [
          100,
          100,
          100,
          100,
          100,
          88.2,
          94.3,
          100,
          95.2,
          100
         ],
         "showlegend": true,
         "subplot": "polar",
         "theta": [
          "Academic Reputation Score",
          "Employer Reputation Score",
          "Faculty Student Score",
          "Citations per Faculty Score",
          "International Faculty Score",
          "International Students Score",
          "International Research Network Score",
          "Employment Outcomes Score",
          "Sustainability Score",
          "Academic Reputation Score"
         ],
         "type": "scatterpolar"
        },
        {
         "hovertemplate": "Model=Stanford<br>Score=%{r}<br>Score Type=%{theta}<extra></extra>",
         "legendgroup": "Stanford",
         "line": {
          "color": "#EF553B",
          "dash": "solid"
         },
         "marker": {
          "symbol": "circle"
         },
         "mode": "lines",
         "name": "Stanford",
         "r": [
          100,
          100,
          100,
          99.9,
          99.9,
          51.2,
          95.8,
          100,
          94.4,
          100
         ],
         "showlegend": true,
         "subplot": "polar",
         "theta": [
          "Academic Reputation Score",
          "Employer Reputation Score",
          "Faculty Student Score",
          "Citations per Faculty Score",
          "International Faculty Score",
          "International Students Score",
          "International Research Network Score",
          "Employment Outcomes Score",
          "Sustainability Score",
          "Academic Reputation Score"
         ],
         "type": "scatterpolar"
        },
        {
         "hovertemplate": "Model=University of Tokyo<br>Score=%{r}<br>Score Type=%{theta}<extra></extra>",
         "legendgroup": "University of Tokyo",
         "line": {
          "color": "#00cc96",
          "dash": "solid"
         },
         "marker": {
          "symbol": "circle"
         },
         "mode": "lines",
         "name": "University of Tokyo",
         "r": [
          100,
          99.8,
          90.4,
          70,
          10.3,
          29.2,
          70,
          99.8,
          99.7,
          100
         ],
         "showlegend": true,
         "subplot": "polar",
         "theta": [
          "Academic Reputation Score",
          "Employer Reputation Score",
          "Faculty Student Score",
          "Citations per Faculty Score",
          "International Faculty Score",
          "International Students Score",
          "International Research Network Score",
          "Employment Outcomes Score",
          "Sustainability Score",
          "Academic Reputation Score"
         ],
         "type": "scatterpolar"
        },
        {
         "hovertemplate": "Model=The University of Hong Kong<br>Score=%{r}<br>Score Type=%{theta}<extra></extra>",
         "legendgroup": "The University of Hong Kong",
         "line": {
          "color": "#ab63fa",
          "dash": "solid"
         },
         "marker": {
          "symbol": "circle"
         },
         "mode": "lines",
         "name": "The University of Hong Kong",
         "r": [
          97.6,
          51.4,
          82.9,
          82.3,
          100,
          99,
          42.7,
          99.5,
          97.3,
          97.6
         ],
         "showlegend": true,
         "subplot": "polar",
         "theta": [
          "Academic Reputation Score",
          "Employer Reputation Score",
          "Faculty Student Score",
          "Citations per Faculty Score",
          "International Faculty Score",
          "International Students Score",
          "International Research Network Score",
          "Employment Outcomes Score",
          "Sustainability Score",
          "Academic Reputation Score"
         ],
         "type": "scatterpolar"
        },
        {
         "hovertemplate": "Model=Fudan University<br>Score=%{r}<br>Score Type=%{theta}<extra></extra>",
         "legendgroup": "Fudan University",
         "line": {
          "color": "#FFA15A",
          "dash": "solid"
         },
         "marker": {
          "symbol": "circle"
         },
         "mode": "lines",
         "name": "Fudan University",
         "r": [
          84.7,
          89.8,
          84.5,
          72.4,
          88.3,
          33,
          22.7,
          49.6,
          43.8,
          84.7
         ],
         "showlegend": true,
         "subplot": "polar",
         "theta": [
          "Academic Reputation Score",
          "Employer Reputation Score",
          "Faculty Student Score",
          "Citations per Faculty Score",
          "International Faculty Score",
          "International Students Score",
          "International Research Network Score",
          "Employment Outcomes Score",
          "Sustainability Score",
          "Academic Reputation Score"
         ],
         "type": "scatterpolar"
        }
       ],
       "layout": {
        "legend": {
         "title": {
          "text": "Model"
         },
         "tracegroupgap": 0
        },
        "polar": {
         "angularaxis": {
          "direction": "clockwise",
          "rotation": 90
         },
         "domain": {
          "x": [
           0,
           1
          ],
          "y": [
           0,
           1
          ]
         }
        },
        "template": {
         "data": {
          "bar": [
           {
            "error_x": {
             "color": "#f2f5fa"
            },
            "error_y": {
             "color": "#f2f5fa"
            },
            "marker": {
             "line": {
              "color": "rgb(17,17,17)",
              "width": 0.5
             },
             "pattern": {
              "fillmode": "overlay",
              "size": 10,
              "solidity": 0.2
             }
            },
            "type": "bar"
           }
          ],
          "barpolar": [
           {
            "marker": {
             "line": {
              "color": "rgb(17,17,17)",
              "width": 0.5
             },
             "pattern": {
              "fillmode": "overlay",
              "size": 10,
              "solidity": 0.2
             }
            },
            "type": "barpolar"
           }
          ],
          "carpet": [
           {
            "aaxis": {
             "endlinecolor": "#A2B1C6",
             "gridcolor": "#506784",
             "linecolor": "#506784",
             "minorgridcolor": "#506784",
             "startlinecolor": "#A2B1C6"
            },
            "baxis": {
             "endlinecolor": "#A2B1C6",
             "gridcolor": "#506784",
             "linecolor": "#506784",
             "minorgridcolor": "#506784",
             "startlinecolor": "#A2B1C6"
            },
            "type": "carpet"
           }
          ],
          "choropleth": [
           {
            "colorbar": {
             "outlinewidth": 0,
             "ticks": ""
            },
            "type": "choropleth"
           }
          ],
          "contour": [
           {
            "colorbar": {
             "outlinewidth": 0,
             "ticks": ""
            },
            "colorscale": [
             [
              0,
              "#0d0887"
             ],
             [
              0.1111111111111111,
              "#46039f"
             ],
             [
              0.2222222222222222,
              "#7201a8"
             ],
             [
              0.3333333333333333,
              "#9c179e"
             ],
             [
              0.4444444444444444,
              "#bd3786"
             ],
             [
              0.5555555555555556,
              "#d8576b"
             ],
             [
              0.6666666666666666,
              "#ed7953"
             ],
             [
              0.7777777777777778,
              "#fb9f3a"
             ],
             [
              0.8888888888888888,
              "#fdca26"
             ],
             [
              1,
              "#f0f921"
             ]
            ],
            "type": "contour"
           }
          ],
          "contourcarpet": [
           {
            "colorbar": {
             "outlinewidth": 0,
             "ticks": ""
            },
            "type": "contourcarpet"
           }
          ],
          "heatmap": [
           {
            "colorbar": {
             "outlinewidth": 0,
             "ticks": ""
            },
            "colorscale": [
             [
              0,
              "#0d0887"
             ],
             [
              0.1111111111111111,
              "#46039f"
             ],
             [
              0.2222222222222222,
              "#7201a8"
             ],
             [
              0.3333333333333333,
              "#9c179e"
             ],
             [
              0.4444444444444444,
              "#bd3786"
             ],
             [
              0.5555555555555556,
              "#d8576b"
             ],
             [
              0.6666666666666666,
              "#ed7953"
             ],
             [
              0.7777777777777778,
              "#fb9f3a"
             ],
             [
              0.8888888888888888,
              "#fdca26"
             ],
             [
              1,
              "#f0f921"
             ]
            ],
            "type": "heatmap"
           }
          ],
          "heatmapgl": [
           {
            "colorbar": {
             "outlinewidth": 0,
             "ticks": ""
            },
            "colorscale": [
             [
              0,
              "#0d0887"
             ],
             [
              0.1111111111111111,
              "#46039f"
             ],
             [
              0.2222222222222222,
              "#7201a8"
             ],
             [
              0.3333333333333333,
              "#9c179e"
             ],
             [
              0.4444444444444444,
              "#bd3786"
             ],
             [
              0.5555555555555556,
              "#d8576b"
             ],
             [
              0.6666666666666666,
              "#ed7953"
             ],
             [
              0.7777777777777778,
              "#fb9f3a"
             ],
             [
              0.8888888888888888,
              "#fdca26"
             ],
             [
              1,
              "#f0f921"
             ]
            ],
            "type": "heatmapgl"
           }
          ],
          "histogram": [
           {
            "marker": {
             "pattern": {
              "fillmode": "overlay",
              "size": 10,
              "solidity": 0.2
             }
            },
            "type": "histogram"
           }
          ],
          "histogram2d": [
           {
            "colorbar": {
             "outlinewidth": 0,
             "ticks": ""
            },
            "colorscale": [
             [
              0,
              "#0d0887"
             ],
             [
              0.1111111111111111,
              "#46039f"
             ],
             [
              0.2222222222222222,
              "#7201a8"
             ],
             [
              0.3333333333333333,
              "#9c179e"
             ],
             [
              0.4444444444444444,
              "#bd3786"
             ],
             [
              0.5555555555555556,
              "#d8576b"
             ],
             [
              0.6666666666666666,
              "#ed7953"
             ],
             [
              0.7777777777777778,
              "#fb9f3a"
             ],
             [
              0.8888888888888888,
              "#fdca26"
             ],
             [
              1,
              "#f0f921"
             ]
            ],
            "type": "histogram2d"
           }
          ],
          "histogram2dcontour": [
           {
            "colorbar": {
             "outlinewidth": 0,
             "ticks": ""
            },
            "colorscale": [
             [
              0,
              "#0d0887"
             ],
             [
              0.1111111111111111,
              "#46039f"
             ],
             [
              0.2222222222222222,
              "#7201a8"
             ],
             [
              0.3333333333333333,
              "#9c179e"
             ],
             [
              0.4444444444444444,
              "#bd3786"
             ],
             [
              0.5555555555555556,
              "#d8576b"
             ],
             [
              0.6666666666666666,
              "#ed7953"
             ],
             [
              0.7777777777777778,
              "#fb9f3a"
             ],
             [
              0.8888888888888888,
              "#fdca26"
             ],
             [
              1,
              "#f0f921"
             ]
            ],
            "type": "histogram2dcontour"
           }
          ],
          "mesh3d": [
           {
            "colorbar": {
             "outlinewidth": 0,
             "ticks": ""
            },
            "type": "mesh3d"
           }
          ],
          "parcoords": [
           {
            "line": {
             "colorbar": {
              "outlinewidth": 0,
              "ticks": ""
             }
            },
            "type": "parcoords"
           }
          ],
          "pie": [
           {
            "automargin": true,
            "type": "pie"
           }
          ],
          "scatter": [
           {
            "marker": {
             "line": {
              "color": "#283442"
             }
            },
            "type": "scatter"
           }
          ],
          "scatter3d": [
           {
            "line": {
             "colorbar": {
              "outlinewidth": 0,
              "ticks": ""
             }
            },
            "marker": {
             "colorbar": {
              "outlinewidth": 0,
              "ticks": ""
             }
            },
            "type": "scatter3d"
           }
          ],
          "scattercarpet": [
           {
            "marker": {
             "colorbar": {
              "outlinewidth": 0,
              "ticks": ""
             }
            },
            "type": "scattercarpet"
           }
          ],
          "scattergeo": [
           {
            "marker": {
             "colorbar": {
              "outlinewidth": 0,
              "ticks": ""
             }
            },
            "type": "scattergeo"
           }
          ],
          "scattergl": [
           {
            "marker": {
             "line": {
              "color": "#283442"
             }
            },
            "type": "scattergl"
           }
          ],
          "scattermapbox": [
           {
            "marker": {
             "colorbar": {
              "outlinewidth": 0,
              "ticks": ""
             }
            },
            "type": "scattermapbox"
           }
          ],
          "scatterpolar": [
           {
            "marker": {
             "colorbar": {
              "outlinewidth": 0,
              "ticks": ""
             }
            },
            "type": "scatterpolar"
           }
          ],
          "scatterpolargl": [
           {
            "marker": {
             "colorbar": {
              "outlinewidth": 0,
              "ticks": ""
             }
            },
            "type": "scatterpolargl"
           }
          ],
          "scatterternary": [
           {
            "marker": {
             "colorbar": {
              "outlinewidth": 0,
              "ticks": ""
             }
            },
            "type": "scatterternary"
           }
          ],
          "surface": [
           {
            "colorbar": {
             "outlinewidth": 0,
             "ticks": ""
            },
            "colorscale": [
             [
              0,
              "#0d0887"
             ],
             [
              0.1111111111111111,
              "#46039f"
             ],
             [
              0.2222222222222222,
              "#7201a8"
             ],
             [
              0.3333333333333333,
              "#9c179e"
             ],
             [
              0.4444444444444444,
              "#bd3786"
             ],
             [
              0.5555555555555556,
              "#d8576b"
             ],
             [
              0.6666666666666666,
              "#ed7953"
             ],
             [
              0.7777777777777778,
              "#fb9f3a"
             ],
             [
              0.8888888888888888,
              "#fdca26"
             ],
             [
              1,
              "#f0f921"
             ]
            ],
            "type": "surface"
           }
          ],
          "table": [
           {
            "cells": {
             "fill": {
              "color": "#506784"
             },
             "line": {
              "color": "rgb(17,17,17)"
             }
            },
            "header": {
             "fill": {
              "color": "#2a3f5f"
             },
             "line": {
              "color": "rgb(17,17,17)"
             }
            },
            "type": "table"
           }
          ]
         },
         "layout": {
          "annotationdefaults": {
           "arrowcolor": "#f2f5fa",
           "arrowhead": 0,
           "arrowwidth": 1
          },
          "autotypenumbers": "strict",
          "coloraxis": {
           "colorbar": {
            "outlinewidth": 0,
            "ticks": ""
           }
          },
          "colorscale": {
           "diverging": [
            [
             0,
             "#8e0152"
            ],
            [
             0.1,
             "#c51b7d"
            ],
            [
             0.2,
             "#de77ae"
            ],
            [
             0.3,
             "#f1b6da"
            ],
            [
             0.4,
             "#fde0ef"
            ],
            [
             0.5,
             "#f7f7f7"
            ],
            [
             0.6,
             "#e6f5d0"
            ],
            [
             0.7,
             "#b8e186"
            ],
            [
             0.8,
             "#7fbc41"
            ],
            [
             0.9,
             "#4d9221"
            ],
            [
             1,
             "#276419"
            ]
           ],
           "sequential": [
            [
             0,
             "#0d0887"
            ],
            [
             0.1111111111111111,
             "#46039f"
            ],
            [
             0.2222222222222222,
             "#7201a8"
            ],
            [
             0.3333333333333333,
             "#9c179e"
            ],
            [
             0.4444444444444444,
             "#bd3786"
            ],
            [
             0.5555555555555556,
             "#d8576b"
            ],
            [
             0.6666666666666666,
             "#ed7953"
            ],
            [
             0.7777777777777778,
             "#fb9f3a"
            ],
            [
             0.8888888888888888,
             "#fdca26"
            ],
            [
             1,
             "#f0f921"
            ]
           ],
           "sequentialminus": [
            [
             0,
             "#0d0887"
            ],
            [
             0.1111111111111111,
             "#46039f"
            ],
            [
             0.2222222222222222,
             "#7201a8"
            ],
            [
             0.3333333333333333,
             "#9c179e"
            ],
            [
             0.4444444444444444,
             "#bd3786"
            ],
            [
             0.5555555555555556,
             "#d8576b"
            ],
            [
             0.6666666666666666,
             "#ed7953"
            ],
            [
             0.7777777777777778,
             "#fb9f3a"
            ],
            [
             0.8888888888888888,
             "#fdca26"
            ],
            [
             1,
             "#f0f921"
            ]
           ]
          },
          "colorway": [
           "#636efa",
           "#EF553B",
           "#00cc96",
           "#ab63fa",
           "#FFA15A",
           "#19d3f3",
           "#FF6692",
           "#B6E880",
           "#FF97FF",
           "#FECB52"
          ],
          "font": {
           "color": "#f2f5fa"
          },
          "geo": {
           "bgcolor": "rgb(17,17,17)",
           "lakecolor": "rgb(17,17,17)",
           "landcolor": "rgb(17,17,17)",
           "showlakes": true,
           "showland": true,
           "subunitcolor": "#506784"
          },
          "hoverlabel": {
           "align": "left"
          },
          "hovermode": "closest",
          "mapbox": {
           "style": "dark"
          },
          "paper_bgcolor": "rgb(17,17,17)",
          "plot_bgcolor": "rgb(17,17,17)",
          "polar": {
           "angularaxis": {
            "gridcolor": "#506784",
            "linecolor": "#506784",
            "ticks": ""
           },
           "bgcolor": "rgb(17,17,17)",
           "radialaxis": {
            "gridcolor": "#506784",
            "linecolor": "#506784",
            "ticks": ""
           }
          },
          "scene": {
           "xaxis": {
            "backgroundcolor": "rgb(17,17,17)",
            "gridcolor": "#506784",
            "gridwidth": 2,
            "linecolor": "#506784",
            "showbackground": true,
            "ticks": "",
            "zerolinecolor": "#C8D4E3"
           },
           "yaxis": {
            "backgroundcolor": "rgb(17,17,17)",
            "gridcolor": "#506784",
            "gridwidth": 2,
            "linecolor": "#506784",
            "showbackground": true,
            "ticks": "",
            "zerolinecolor": "#C8D4E3"
           },
           "zaxis": {
            "backgroundcolor": "rgb(17,17,17)",
            "gridcolor": "#506784",
            "gridwidth": 2,
            "linecolor": "#506784",
            "showbackground": true,
            "ticks": "",
            "zerolinecolor": "#C8D4E3"
           }
          },
          "shapedefaults": {
           "line": {
            "color": "#f2f5fa"
           }
          },
          "sliderdefaults": {
           "bgcolor": "#C8D4E3",
           "bordercolor": "rgb(17,17,17)",
           "borderwidth": 1,
           "tickwidth": 0
          },
          "ternary": {
           "aaxis": {
            "gridcolor": "#506784",
            "linecolor": "#506784",
            "ticks": ""
           },
           "baxis": {
            "gridcolor": "#506784",
            "linecolor": "#506784",
            "ticks": ""
           },
           "bgcolor": "rgb(17,17,17)",
           "caxis": {
            "gridcolor": "#506784",
            "linecolor": "#506784",
            "ticks": ""
           }
          },
          "title": {
           "x": 0.05
          },
          "updatemenudefaults": {
           "bgcolor": "#506784",
           "borderwidth": 0
          },
          "xaxis": {
           "automargin": true,
           "gridcolor": "#283442",
           "linecolor": "#506784",
           "ticks": "",
           "title": {
            "standoff": 15
           },
           "zerolinecolor": "#283442",
           "zerolinewidth": 2
          },
          "yaxis": {
           "automargin": true,
           "gridcolor": "#283442",
           "linecolor": "#506784",
           "ticks": "",
           "title": {
            "standoff": 15
           },
           "zerolinecolor": "#283442",
           "zerolinewidth": 2
          }
         }
        },
        "title": {
         "text": "Radar Chart for Schools"
        }
       }
      }
     },
     "metadata": {},
     "output_type": "display_data"
    }
   ],
   "source": [
    "mit = school_scores('Massachusetts Institute of Technology (MIT) ') # Rank 1\n",
    "stanford = school_scores('Stanford University') # Rank 5\n",
    "uni_of_tokyo = school_scores('The University of Tokyo') # Rank 28\n",
    "uni_of_hk = school_scores('The University of Hong Kong') # Rank 26\n",
    "fudan = school_scores('Fudan University') # Rank 50\n",
    "\n",
    "mit['Model'] = 'MIT'\n",
    "stanford['Model'] = 'Stanford'\n",
    "uni_of_tokyo['Model'] = 'University of Tokyo'\n",
    "uni_of_hk['Model'] = 'The University of Hong Kong'\n",
    "fudan['Model'] = 'Fudan University'\n",
    "\n",
    "all_uni = pd.concat([mit, stanford, uni_of_tokyo, uni_of_hk, fudan], axis=0)\n",
    "# all_uni['Score'] = all_uni['Score'].max() - all_uni['Score']\n",
    "# print(all_uni)\n",
    "\n",
    "fig = px.line_polar(all_uni, r='Score', theta='Score Type', color='Model', \n",
    "                    title='Radar Chart for Schools',  \n",
    "                    template=\"plotly_dark\", line_close=True)\n",
    "fig.show()\n",
    "\n",
    "# Create two scatter plots using Plotly Express\n",
    "# line_polar_1 = px.line_polar(mit, r='Score', theta='Score Type', title='Radar Chart For MIT', line_close=True)\n",
    "# line_polar_2 = px.line_polar(stanford, r='Score', theta='Score Type', title='Radar Chart For Stanford', line_close=True)\n",
    "# line_polar_3 = px.line_polar(uni_of_tokyo, r='Score', theta='Score Type', title='Radar Chart For Stanford', line_close=True)\n"
   ]
  },
  {
   "cell_type": "markdown",
   "metadata": {},
   "source": [
    "This is a nice way to compare the strenghts of certain colleges. For example, MIT is ahead of Stanford in terms of ranking may largely be due to the fact that it has a stronger International Students Score. Thus, in order to improve the score, Stanford may want to focus on it's international student body more often. \n",
    "\n",
    "Another trend I began to notice that as you move down the rankings, the Academic Reputation Score characteristic remained the most steady. In other words, while the scores of other categories dropped and varied significantly, the academic reputation score remained higher. This may suggest that Academic Reputation Score has a large impact on the overall rankings. A quick look at https://support.qs.com/hc/en-gb/articles/4405955370898-QS-World-University-Rankings-, shows that this is indeed the case. Academic reputation score represents 30% of the overal score! In fact, let's see if we can prove this!\n",
    "\n",
    "## Step: 3 Data Analysis"
   ]
  },
  {
   "cell_type": "code",
   "execution_count": 333,
   "metadata": {},
   "outputs": [
    {
     "name": "stdout",
     "output_type": "stream",
     "text": [
      "Academic Reputation Score: 30.01%\n",
      "Employer Reputation Score: 14.98%\n",
      "Faculty Student Score: 10.00%\n",
      "Citations per Faculty Score: 20.00%\n",
      "International Faculty Score: 5.00%\n",
      "International Students Score: 5.01%\n",
      "International Research Network Score: 5.00%\n",
      "Employment Outcomes Score: 5.00%\n",
      "Sustainability Score: 5.00%\n"
     ]
    },
    {
     "data": {
      "image/png": "[encoded data removed]",
      "text/plain": [
       "<Figure size 576x576 with 1 Axes>"
      ]
     },
     "metadata": {},
     "output_type": "display_data"
    }
   ],
   "source": [
    "from sklearn.model_selection import train_test_split\n",
    "from sklearn.linear_model import LinearRegression\n",
    "\n",
    "X = df[score_col] # Features (independent variables)\n",
    "y = df['Overall SCORE'] # Target variable (dependent variable)\n",
    "\n",
    "# Split data into training and testing sets\n",
    "X_train, X_test, y_train, y_test = train_test_split(X, y, test_size=0.2, random_state=42)\n",
    "\n",
    "model = LinearRegression() # Initialize the linear regression model\n",
    "model.fit(X_train, y_train) # Train the model\n",
    "category_weights = model.coef_ # Get the learned coefficients (weights)\n",
    "\n",
    "# Normalize the weights to sum up to 1 (for relative weights)\n",
    "sum_weights = sum(category_weights)\n",
    "relative_weights = category_weights / sum_weights\n",
    "\n",
    "# Print the relative weights of each category\n",
    "for i, category in enumerate(score_col):\n",
    "    print(f\"{category}: {relative_weights[i]:.2%}\")\n",
    "    \n",
    "\n",
    "plt.figure(figsize=(8, 8))\n",
    "plt.gca().set_facecolor('white')\n",
    "plt.pie(relative_weights, labels=score_col, autopct='%.1f%%', startangle=140)\n",
    "plt.title('Relative Weights of Categories on Overall Score')\n",
    "plt.show()"
   ]
  },
  {
   "cell_type": "markdown",
   "metadata": {},
   "source": [
    "A good article explaining linear regression and its learned coefficents can be found here [here](https://christophm.github.io/interpretable-ml-book/limo.html). But in general, a linear relationship with multible variables represented as \n",
    "\n",
    "$$ y = β_0 + β_1x_1 + \\cdots + β_px_p + ϵ $$\n",
    "\n",
    "The $\\beta$'s represent our coefficients. We have proved that the coefficients match the ones described in the QS documentation.\n",
    "\n",
    "Perhaps another way to test the strength of the correlation between each `Score` column the `Overall SCORE` column is through the Pearson correlation."
   ]
  },
  {
   "cell_type": "code",
   "execution_count": 342,
   "metadata": {},
   "outputs": [
    {
     "name": "stdout",
     "output_type": "stream",
     "text": [
      "Academic Reputation Score               0.862012\n",
      "Employer Reputation Score               0.699860\n",
      "Faculty Student Score                   0.392729\n",
      "Citations per Faculty Score             0.441857\n",
      "International Faculty Score             0.256317\n",
      "International Students Score            0.411986\n",
      "International Research Network Score    0.371779\n",
      "Employment Outcomes Score               0.604636\n",
      "Sustainability Score                    0.383236\n",
      "Overall SCORE                           1.000000\n",
      "Name: Overall SCORE, dtype: float64\n"
     ]
    },
    {
     "data": {
      "text/plain": [
       "<AxesSubplot:>"
      ]
     },
     "execution_count": 342,
     "metadata": {},
     "output_type": "execute_result"
    },
    {
     "data": {
      "image/png": "[encoded data removed]",
      "text/plain": [
       "<Figure size 432x288 with 2 Axes>"
      ]
     },
     "metadata": {
      "needs_background": "light"
     },
     "output_type": "display_data"
    }
   ],
   "source": [
    "pearson_corr = df[(score_col + ['Overall SCORE'])].corr()['Overall SCORE']\n",
    "print(pearson_corr)\n",
    "\n",
    "sns.heatmap(pearson_corr.to_frame(), annot=True, cmap='coolwarm', vmin=-1, vmax=1, center=0)"
   ]
  },
  {
   "cell_type": "markdown",
   "metadata": {},
   "source": [
    "We see again that the `Academic Reputation Score` has the strongest correlation!\n",
    "\n",
    "## Step 5: Conclusions\n",
    "Although there is much much more you can do with this data set, this case studied explored this data set with some basic data visualization principles and techniques. This helped give me a better understanding of how universities are classified (`Size`, `Focus`, etc) and how certain features contribute to the overall ranking of the University. \n",
    "\n",
    "## Further Topics/Notes\n",
    "These are some topics that can be explored.\n",
    "1. Compare regions using country code. How many schools in each reigion (Asia, Middle East, etc...)\n",
    "2. Comparing 2023 and 2024 Stats. See how many new schools entered top 1500, 500, 100, etc.\n",
    "3. Clean the data set.\n"
   ]
  }
 ],
 "metadata": {
  "kernelspec": {
   "display_name": "py38",
   "language": "python",
   "name": "python3"
  },
  "language_info": {
   "codemirror_mode": {
    "name": "ipython",
    "version": 3
   },
   "file_extension": ".py",
   "mimetype": "text/x-python",
   "name": "python",
   "nbconvert_exporter": "python",
   "pygments_lexer": "ipython3",
   "version": "3.8.13"
  },
  "orig_nbformat": 4
 },
 "nbformat": 4,
 "nbformat_minor": 2
}
