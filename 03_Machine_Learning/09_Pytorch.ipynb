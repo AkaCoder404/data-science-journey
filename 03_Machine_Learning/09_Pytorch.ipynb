{
 "cells": [
  {
   "cell_type": "markdown",
   "metadata": {},
   "source": [
    "# Pytorch Beginner Tutorial \n",
    "https://pytorch.org/tutorials/beginner/basics/intro.html"
   ]
  },
  {
   "cell_type": "code",
   "execution_count": 30,
   "metadata": {},
   "outputs": [
    {
     "name": "stdout",
     "output_type": "stream",
     "text": [
      "Using mps device\n"
     ]
    }
   ],
   "source": [
    "# Imports\n",
    "import torch\n",
    "from torch import nn\n",
    "from torch.utils.data import DataLoader\n",
    "from torchvision import datasets, models\n",
    "from torchvision.transforms import ToTensor\n",
    "\n",
    "# Get cpu, gpu or mps device for training.\n",
    "device = (\n",
    "    \"cuda\"\n",
    "    if torch.cuda.is_available()\n",
    "    else \"mps\" # enable high performance training on GPU for MacOS\n",
    "    if torch.backends.mps.is_available()\n",
    "    else \"cpu\"\n",
    ")\n",
    "print(f\"Using {device} device\")"
   ]
  },
  {
   "cell_type": "code",
   "execution_count": 3,
   "metadata": {},
   "outputs": [
    {
     "name": "stdout",
     "output_type": "stream",
     "text": [
      "Downloading http://fashion-mnist.s3-website.eu-central-1.amazonaws.com/train-images-idx3-ubyte.gz\n",
      "Downloading http://fashion-mnist.s3-website.eu-central-1.amazonaws.com/train-images-idx3-ubyte.gz to data/FashionMNIST/raw/train-images-idx3-ubyte.gz\n"
     ]
    },
    {
     "name": "stderr",
     "output_type": "stream",
     "text": [
      "100%|██████████| 26421880/26421880 [01:48<00:00, 244467.99it/s]\n"
     ]
    },
    {
     "name": "stdout",
     "output_type": "stream",
     "text": [
      "Extracting data/FashionMNIST/raw/train-images-idx3-ubyte.gz to data/FashionMNIST/raw\n",
      "\n",
      "Downloading http://fashion-mnist.s3-website.eu-central-1.amazonaws.com/train-labels-idx1-ubyte.gz\n",
      "Downloading http://fashion-mnist.s3-website.eu-central-1.amazonaws.com/train-labels-idx1-ubyte.gz to data/FashionMNIST/raw/train-labels-idx1-ubyte.gz\n"
     ]
    },
    {
     "name": "stderr",
     "output_type": "stream",
     "text": [
      "100%|██████████| 29515/29515 [00:00<00:00, 116718.14it/s]\n"
     ]
    },
    {
     "name": "stdout",
     "output_type": "stream",
     "text": [
      "Extracting data/FashionMNIST/raw/train-labels-idx1-ubyte.gz to data/FashionMNIST/raw\n",
      "\n",
      "Downloading http://fashion-mnist.s3-website.eu-central-1.amazonaws.com/t10k-images-idx3-ubyte.gz\n",
      "Downloading http://fashion-mnist.s3-website.eu-central-1.amazonaws.com/t10k-images-idx3-ubyte.gz to data/FashionMNIST/raw/t10k-images-idx3-ubyte.gz\n"
     ]
    },
    {
     "name": "stderr",
     "output_type": "stream",
     "text": [
      "100%|██████████| 4422102/4422102 [00:16<00:00, 268586.86it/s]\n"
     ]
    },
    {
     "name": "stdout",
     "output_type": "stream",
     "text": [
      "Extracting data/FashionMNIST/raw/t10k-images-idx3-ubyte.gz to data/FashionMNIST/raw\n",
      "\n",
      "Downloading http://fashion-mnist.s3-website.eu-central-1.amazonaws.com/t10k-labels-idx1-ubyte.gz\n",
      "Downloading http://fashion-mnist.s3-website.eu-central-1.amazonaws.com/t10k-labels-idx1-ubyte.gz to data/FashionMNIST/raw/t10k-labels-idx1-ubyte.gz\n"
     ]
    },
    {
     "name": "stderr",
     "output_type": "stream",
     "text": [
      "100%|██████████| 5148/5148 [00:00<00:00, 4388674.19it/s]"
     ]
    },
    {
     "name": "stdout",
     "output_type": "stream",
     "text": [
      "Extracting data/FashionMNIST/raw/t10k-labels-idx1-ubyte.gz to data/FashionMNIST/raw\n",
      "\n"
     ]
    },
    {
     "name": "stderr",
     "output_type": "stream",
     "text": [
      "\n"
     ]
    }
   ],
   "source": [
    "# Download training data from open datasets.\n",
    "training_data = datasets.FashionMNIST(\n",
    "    root=\"data\",\n",
    "    train=True,\n",
    "    download=True,\n",
    "    transform=ToTensor(),\n",
    ")\n",
    "\n",
    "# Download test data from open datasets.\n",
    "test_data = datasets.FashionMNIST(\n",
    "    root=\"data\",\n",
    "    train=False,\n",
    "    download=True,\n",
    "    transform=ToTensor(),\n",
    ")"
   ]
  },
  {
   "cell_type": "code",
   "execution_count": 11,
   "metadata": {},
   "outputs": [
    {
     "name": "stdout",
     "output_type": "stream",
     "text": [
      "<class 'torchvision.datasets.mnist.FashionMNIST'>\n",
      "Dataset FashionMNIST\n",
      "    Number of datapoints: 60000\n",
      "    Root location: data\n",
      "    Split: Train\n",
      "    StandardTransform\n",
      "Transform: ToTensor()\n",
      "torch.Size([60000, 28, 28])\n"
     ]
    }
   ],
   "source": [
    "print(type(training_data))\n",
    "print(training_data)\n",
    "print(training_data.data.shape)"
   ]
  },
  {
   "cell_type": "code",
   "execution_count": 6,
   "metadata": {},
   "outputs": [
    {
     "name": "stdout",
     "output_type": "stream",
     "text": [
      "Shape of X [N, C, H, W]: torch.Size([64, 1, 28, 28])\n",
      "Shape of y: torch.Size([64]) torch.int64\n"
     ]
    }
   ],
   "source": [
    "# Load data into batches\n",
    "batch_size = 64\n",
    "\n",
    "# Create data loaders.\n",
    "train_dataloader = DataLoader(training_data, batch_size=batch_size)\n",
    "test_dataloader = DataLoader(test_data, batch_size=batch_size)\n",
    "\n",
    "for X, y in test_dataloader:\n",
    "    print(f\"Shape of X [N, C, H, W]: {X.shape}\")\n",
    "    print(f\"Shape of y: {y.shape} {y.dtype}\")\n",
    "    break"
   ]
  },
  {
   "cell_type": "code",
   "execution_count": 13,
   "metadata": {},
   "outputs": [
    {
     "name": "stdout",
     "output_type": "stream",
     "text": [
      "NeuralNetwork(\n",
      "  (flatten): Flatten(start_dim=1, end_dim=-1)\n",
      "  (linear_relu_stack): Sequential(\n",
      "    (0): Linear(in_features=784, out_features=512, bias=True)\n",
      "    (1): ReLU()\n",
      "    (2): Linear(in_features=512, out_features=512, bias=True)\n",
      "    (3): ReLU()\n",
      "    (4): Linear(in_features=512, out_features=10, bias=True)\n",
      "  )\n",
      ")\n"
     ]
    }
   ],
   "source": [
    "# Define model\n",
    "class NeuralNetwork(nn.Module):\n",
    "    def __init__(self):\n",
    "        super().__init__()\n",
    "        self.flatten = nn.Flatten()\n",
    "        self.linear_relu_stack = nn.Sequential(\n",
    "            nn.Linear(28*28, 512),\n",
    "            nn.ReLU(),\n",
    "            nn.Linear(512, 512),\n",
    "            nn.ReLU(),\n",
    "            nn.Linear(512, 10)\n",
    "        )\n",
    "\n",
    "    def forward(self, x):\n",
    "        x = self.flatten(x)\n",
    "        logits = self.linear_relu_stack(x)\n",
    "        return logits\n",
    "\n",
    "model = NeuralNetwork().to(device)\n",
    "print(model)"
   ]
  },
  {
   "cell_type": "code",
   "execution_count": 39,
   "metadata": {},
   "outputs": [
    {
     "name": "stdout",
     "output_type": "stream",
     "text": [
      "Layer: 0, Parameters: 1792, Neurons: 3211264, Connections: 1792\n",
      "Layer: 1, Parameters: 0, Neurons: 0, Connections: 0\n",
      "Layer: 2, Parameters: 36928, Neurons: 3211264, Connections: 36928\n",
      "Layer: 3, Parameters: 0, Neurons: 0, Connections: 0\n",
      "Layer: 4, Parameters: 0, Neurons: 0, Connections: 0\n",
      "Layer: 5, Parameters: 73856, Neurons: 6422528, Connections: 73856\n",
      "Layer: 6, Parameters: 0, Neurons: 0, Connections: 0\n",
      "Layer: 7, Parameters: 147584, Neurons: 6422528, Connections: 147584\n",
      "Layer: 8, Parameters: 0, Neurons: 0, Connections: 0\n",
      "Layer: 9, Parameters: 0, Neurons: 0, Connections: 0\n",
      "Layer: 10, Parameters: 295168, Neurons: 12845056, Connections: 295168\n",
      "Layer: 11, Parameters: 0, Neurons: 0, Connections: 0\n",
      "Layer: 12, Parameters: 590080, Neurons: 12845056, Connections: 590080\n",
      "Layer: 13, Parameters: 0, Neurons: 0, Connections: 0\n",
      "Layer: 14, Parameters: 590080, Neurons: 12845056, Connections: 590080\n",
      "Layer: 15, Parameters: 0, Neurons: 0, Connections: 0\n",
      "Layer: 16, Parameters: 0, Neurons: 0, Connections: 0\n",
      "Layer: 17, Parameters: 1180160, Neurons: 25690112, Connections: 1180160\n",
      "Layer: 18, Parameters: 0, Neurons: 0, Connections: 0\n",
      "Layer: 19, Parameters: 2359808, Neurons: 25690112, Connections: 2359808\n",
      "Layer: 20, Parameters: 0, Neurons: 0, Connections: 0\n",
      "Layer: 21, Parameters: 2359808, Neurons: 25690112, Connections: 2359808\n",
      "Layer: 22, Parameters: 0, Neurons: 0, Connections: 0\n",
      "Layer: 23, Parameters: 0, Neurons: 0, Connections: 0\n",
      "Layer: 24, Parameters: 2359808, Neurons: 25690112, Connections: 2359808\n",
      "Layer: 25, Parameters: 0, Neurons: 0, Connections: 0\n",
      "Layer: 26, Parameters: 2359808, Neurons: 25690112, Connections: 2359808\n",
      "Layer: 27, Parameters: 0, Neurons: 0, Connections: 0\n",
      "Layer: 28, Parameters: 2359808, Neurons: 25690112, Connections: 2359808\n",
      "Layer: 29, Parameters: 0, Neurons: 0, Connections: 0\n",
      "Layer: 30, Parameters: 0, Neurons: 0, Connections: 0\n",
      "Total Parameters: 14714688\n",
      "Total Neurons: 211943424\n",
      "Total Connections: 14714688\n"
     ]
    }
   ],
   "source": [
    "# Calculate the neurons, parameters, and connections in the model\n",
    "import torch\n",
    "import torch.nn as nn\n",
    "\n",
    "def count_parameters_neurons_connections(model):\n",
    "    total_params = 0\n",
    "    total_neurons = 0\n",
    "    total_connections = 0\n",
    "\n",
    "    input_size = (1, 3, 224, 224)  # Example input size (batch size, channels, height, width)\n",
    "\n",
    "    for layer_name, layer in model.named_children():\n",
    "        if isinstance(layer, nn.Conv2d):\n",
    "            # Convolutional Layer\n",
    "            in_channels = layer.in_channels\n",
    "            out_channels = layer.out_channels\n",
    "            kernel_size = layer.kernel_size[0]\n",
    "            stride = layer.stride[0]\n",
    "            padding = layer.padding[0]\n",
    "\n",
    "            # Calculate parameters for the convolutional layer\n",
    "            layer_params = (in_channels * out_channels * kernel_size * kernel_size) + out_channels\n",
    "            layer_params_without_bias = in_channels * out_channels * kernel_size * kernel_size\n",
    "\n",
    "            # Calculate the number of neurons in the layer\n",
    "            layer_neurons = out_channels * ((input_size[2] - kernel_size + 2 * padding) // stride + 1) * ((input_size[3] - kernel_size + 2 * padding) // stride + 1)\n",
    "\n",
    "            # Calculate the total connections in the layer\n",
    "            layer_connections = (in_channels * kernel_size * kernel_size + 1) * out_channels\n",
    "\n",
    "        elif isinstance(layer, nn.Linear):\n",
    "            # Fully Connected (Linear) Layer\n",
    "            in_features = layer.in_features\n",
    "            out_features = layer.out_features\n",
    "\n",
    "            # Calculate parameters for the fully connected layer\n",
    "            layer_params = in_features * out_features + out_features\n",
    "\n",
    "            # Calculate the number of neurons in the layer\n",
    "            layer_neurons = out_features\n",
    "\n",
    "            # Calculate the total connections in the layer\n",
    "            layer_connections = layer_params\n",
    "\n",
    "        else:\n",
    "            # Other types of layers are not considered\n",
    "            layer_params = 0\n",
    "            layer_neurons = 0\n",
    "            layer_connections = 0\n",
    "\n",
    "        total_params += layer_params\n",
    "        total_neurons += layer_neurons\n",
    "        total_connections += layer_connections\n",
    "\n",
    "        print(f\"Layer: {layer_name}, Parameters: {layer_params}, Neurons: {layer_neurons}, Connections: {layer_connections}\")\n",
    "\n",
    "    print(f\"Total Parameters: {total_params}\")\n",
    "    print(f\"Total Neurons: {total_neurons}\")\n",
    "    print(f\"Total Connections: {total_connections}\")\n",
    "\n",
    "# Example usage:\n",
    "# Define a sample neural network\n",
    "class SampleModel(nn.Module):\n",
    "    def __init__(self):\n",
    "        super(SampleModel, self).__init__()\n",
    "        self.conv1 = nn.Conv2d(3, 64, kernel_size=3, stride=1, padding=0)\n",
    "        self.fc1 = nn.Linear(128, 128)\n",
    "        self.fc2 = nn.Linear(128, 10)\n",
    "\n",
    "    def forward(self, x):\n",
    "        x = self.conv1(x)\n",
    "        x = x.view(x.size(0), -1)\n",
    "        x = self.fc1(x)\n",
    "        x = self.fc2(x)\n",
    "        return x\n",
    "\n",
    "# model = SampleModel()\n",
    "model = models.vgg16(weights=models.VGG16_Weights.DEFAULT)\n",
    "model = model.features\n",
    "count_parameters_neurons_connections(model)\n",
    "\n",
    "# Layer 0: Parameters: (3 * 3 * 3 + 1) * 64 = 1792\n",
    "# Layer 2: Parameters: (64 * 3 * 3 + 1) * 64 = 36928\n",
    "# Layer 5: Parameters: (128 * 3 * 3 + 1) * 256 = 295168\n",
    "# Layer 7: Parameters: (128 * 3 * 3 + 1) * 128 = 147584\n",
    "\n",
    "\n"
   ]
  },
  {
   "cell_type": "code",
   "execution_count": 41,
   "metadata": {},
   "outputs": [
    {
     "name": "stdout",
     "output_type": "stream",
     "text": [
      "Sequential(\n",
      "  (0): Conv2d(3, 64, kernel_size=(3, 3), stride=(1, 1), padding=(1, 1))\n",
      "  (1): ReLU(inplace=True)\n",
      "  (2): Conv2d(64, 64, kernel_size=(3, 3), stride=(1, 1), padding=(1, 1))\n",
      "  (3): ReLU(inplace=True)\n",
      "  (4): MaxPool2d(kernel_size=2, stride=2, padding=0, dilation=1, ceil_mode=False)\n",
      "  (5): Conv2d(64, 128, kernel_size=(3, 3), stride=(1, 1), padding=(1, 1))\n",
      "  (6): ReLU(inplace=True)\n",
      "  (7): Conv2d(128, 128, kernel_size=(3, 3), stride=(1, 1), padding=(1, 1))\n",
      "  (8): ReLU(inplace=True)\n",
      "  (9): MaxPool2d(kernel_size=2, stride=2, padding=0, dilation=1, ceil_mode=False)\n",
      "  (10): Conv2d(128, 256, kernel_size=(3, 3), stride=(1, 1), padding=(1, 1))\n",
      "  (11): ReLU(inplace=True)\n",
      "  (12): Conv2d(256, 256, kernel_size=(3, 3), stride=(1, 1), padding=(1, 1))\n",
      "  (13): ReLU(inplace=True)\n",
      "  (14): Conv2d(256, 256, kernel_size=(3, 3), stride=(1, 1), padding=(1, 1))\n",
      "  (15): ReLU(inplace=True)\n",
      "  (16): MaxPool2d(kernel_size=2, stride=2, padding=0, dilation=1, ceil_mode=False)\n",
      "  (17): Conv2d(256, 512, kernel_size=(3, 3), stride=(1, 1), padding=(1, 1))\n",
      "  (18): ReLU(inplace=True)\n",
      "  (19): Conv2d(512, 512, kernel_size=(3, 3), stride=(1, 1), padding=(1, 1))\n",
      "  (20): ReLU(inplace=True)\n",
      "  (21): Conv2d(512, 512, kernel_size=(3, 3), stride=(1, 1), padding=(1, 1))\n",
      "  (22): ReLU(inplace=True)\n",
      "  (23): MaxPool2d(kernel_size=2, stride=2, padding=0, dilation=1, ceil_mode=False)\n",
      "  (24): Conv2d(512, 512, kernel_size=(3, 3), stride=(1, 1), padding=(1, 1))\n",
      "  (25): ReLU(inplace=True)\n",
      "  (26): Conv2d(512, 512, kernel_size=(3, 3), stride=(1, 1), padding=(1, 1))\n",
      "  (27): ReLU(inplace=True)\n",
      "  (28): Conv2d(512, 512, kernel_size=(3, 3), stride=(1, 1), padding=(1, 1))\n",
      "  (29): ReLU(inplace=True)\n",
      "  (30): MaxPool2d(kernel_size=2, stride=2, padding=0, dilation=1, ceil_mode=False)\n",
      ")\n"
     ]
    }
   ],
   "source": [
    "print(model)"
   ]
  },
  {
   "cell_type": "code",
   "execution_count": 55,
   "metadata": {},
   "outputs": [
    {
     "name": "stdout",
     "output_type": "stream",
     "text": [
      "[[0.3192451  0.51063436 0.3241715  ... 0.00672002 0.93268238 0.24406062]\n",
      " [0.13718537 0.00702383 0.0709007  ... 0.917904   0.28491715 0.02468555]\n",
      " [0.1152957  0.41869902 0.5378456  ... 0.83767671 0.1983611  0.34422869]\n",
      " ...\n",
      " [0.94051953 0.12877874 0.87899104 ... 0.0205612  0.18572723 0.82759106]\n",
      " [0.06910524 0.21838478 0.45299182 ... 0.95794417 0.70262087 0.57449342]\n",
      " [0.18141773 0.72602064 0.6200258  ... 0.48440488 0.05749265 0.90554826]]\n"
     ]
    },
    {
     "data": {
      "image/png": "[encoded data removed]",
      "text/plain": [
       "<Figure size 432x288 with 1 Axes>"
      ]
     },
     "metadata": {
      "needs_background": "light"
     },
     "output_type": "display_data"
    }
   ],
   "source": [
    "import numpy as np\n",
    "M1 = np.random.rand(50, 50)\n",
    "M2 = np.random.randn(3, 3)\n",
    "\n",
    "# Graph\n",
    "import matplotlib.pyplot as plt\n",
    "\n",
    "# Graph M1\n",
    "plt.imshow(M1, cmap='gray')\n",
    "print(M1)"
   ]
  },
  {
   "cell_type": "code",
   "execution_count": 56,
   "metadata": {},
   "outputs": [
    {
     "name": "stdout",
     "output_type": "stream",
     "text": [
      "[[ 1.05007061 -1.04646761  0.16276236]\n",
      " [-1.23669967 -0.70377378  2.32714327]\n",
      " [ 0.36980136 -0.00960504 -0.54120641]]\n"
     ]
    },
    {
     "data": {
      "image/png": "[encoded data removed]",
      "text/plain": [
       "<Figure size 432x288 with 1 Axes>"
      ]
     },
     "metadata": {
      "needs_background": "light"
     },
     "output_type": "display_data"
    }
   ],
   "source": [
    "plt.imshow(M2, cmap='gray')\n",
    "print(M2)"
   ]
  },
  {
   "cell_type": "code",
   "execution_count": null,
   "metadata": {},
   "outputs": [],
   "source": []
  }
 ],
 "metadata": {
  "kernelspec": {
   "display_name": "py38",
   "language": "python",
   "name": "python3"
  },
  "language_info": {
   "codemirror_mode": {
    "name": "ipython",
    "version": 3
   },
   "file_extension": ".py",
   "mimetype": "text/x-python",
   "name": "python",
   "nbconvert_exporter": "python",
   "pygments_lexer": "ipython3",
   "version": "3.8.13"
  },
  "orig_nbformat": 4
 },
 "nbformat": 4,
 "nbformat_minor": 2
}
